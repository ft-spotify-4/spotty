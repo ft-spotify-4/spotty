{
 "cells": [
  {
   "cell_type": "markdown",
   "source": [
    "## Load libraries and Data"
   ],
   "metadata": {
    "tags": []
   }
  },
  {
   "cell_type": "code",
   "execution_count": 43,
   "source": [
    "import pandas as pd\n",
    "import numpy as np\n",
    "\n",
    "import matplotlib.pyplot as plt\n",
    "import seaborn as sns\n",
    "\n",
    "import warnings\n",
    "warnings.filterwarnings('ignore')"
   ],
   "outputs": [],
   "metadata": {}
  },
  {
   "cell_type": "code",
   "execution_count": 44,
   "source": [
    "songs_df = pd.read_csv('genres_v2.csv')"
   ],
   "outputs": [],
   "metadata": {}
  },
  {
   "cell_type": "markdown",
   "source": [
    "## Look at df"
   ],
   "metadata": {
    "tags": []
   }
  },
  {
   "cell_type": "code",
   "execution_count": 45,
   "source": [
    "songs_df.head(2)"
   ],
   "outputs": [
    {
     "output_type": "execute_result",
     "data": {
      "text/html": [
       "<div>\n",
       "<style scoped>\n",
       "    .dataframe tbody tr th:only-of-type {\n",
       "        vertical-align: middle;\n",
       "    }\n",
       "\n",
       "    .dataframe tbody tr th {\n",
       "        vertical-align: top;\n",
       "    }\n",
       "\n",
       "    .dataframe thead th {\n",
       "        text-align: right;\n",
       "    }\n",
       "</style>\n",
       "<table border=\"1\" class=\"dataframe\">\n",
       "  <thead>\n",
       "    <tr style=\"text-align: right;\">\n",
       "      <th></th>\n",
       "      <th>danceability</th>\n",
       "      <th>energy</th>\n",
       "      <th>key</th>\n",
       "      <th>loudness</th>\n",
       "      <th>mode</th>\n",
       "      <th>speechiness</th>\n",
       "      <th>acousticness</th>\n",
       "      <th>instrumentalness</th>\n",
       "      <th>liveness</th>\n",
       "      <th>valence</th>\n",
       "      <th>...</th>\n",
       "      <th>id</th>\n",
       "      <th>uri</th>\n",
       "      <th>track_href</th>\n",
       "      <th>analysis_url</th>\n",
       "      <th>duration_ms</th>\n",
       "      <th>time_signature</th>\n",
       "      <th>genre</th>\n",
       "      <th>song_name</th>\n",
       "      <th>Unnamed: 0</th>\n",
       "      <th>title</th>\n",
       "    </tr>\n",
       "  </thead>\n",
       "  <tbody>\n",
       "    <tr>\n",
       "      <th>0</th>\n",
       "      <td>0.831</td>\n",
       "      <td>0.814</td>\n",
       "      <td>2</td>\n",
       "      <td>-7.364</td>\n",
       "      <td>1</td>\n",
       "      <td>0.4200</td>\n",
       "      <td>0.0598</td>\n",
       "      <td>0.0134</td>\n",
       "      <td>0.0556</td>\n",
       "      <td>0.389</td>\n",
       "      <td>...</td>\n",
       "      <td>2Vc6NJ9PW9gD9q343XFRKx</td>\n",
       "      <td>spotify:track:2Vc6NJ9PW9gD9q343XFRKx</td>\n",
       "      <td>https://api.spotify.com/v1/tracks/2Vc6NJ9PW9gD...</td>\n",
       "      <td>https://api.spotify.com/v1/audio-analysis/2Vc6...</td>\n",
       "      <td>124539</td>\n",
       "      <td>4</td>\n",
       "      <td>Dark Trap</td>\n",
       "      <td>Mercury: Retrograde</td>\n",
       "      <td>NaN</td>\n",
       "      <td>NaN</td>\n",
       "    </tr>\n",
       "    <tr>\n",
       "      <th>1</th>\n",
       "      <td>0.719</td>\n",
       "      <td>0.493</td>\n",
       "      <td>8</td>\n",
       "      <td>-7.230</td>\n",
       "      <td>1</td>\n",
       "      <td>0.0794</td>\n",
       "      <td>0.4010</td>\n",
       "      <td>0.0000</td>\n",
       "      <td>0.1180</td>\n",
       "      <td>0.124</td>\n",
       "      <td>...</td>\n",
       "      <td>7pgJBLVz5VmnL7uGHmRj6p</td>\n",
       "      <td>spotify:track:7pgJBLVz5VmnL7uGHmRj6p</td>\n",
       "      <td>https://api.spotify.com/v1/tracks/7pgJBLVz5Vmn...</td>\n",
       "      <td>https://api.spotify.com/v1/audio-analysis/7pgJ...</td>\n",
       "      <td>224427</td>\n",
       "      <td>4</td>\n",
       "      <td>Dark Trap</td>\n",
       "      <td>Pathology</td>\n",
       "      <td>NaN</td>\n",
       "      <td>NaN</td>\n",
       "    </tr>\n",
       "  </tbody>\n",
       "</table>\n",
       "<p>2 rows × 22 columns</p>\n",
       "</div>"
      ],
      "text/plain": [
       "   danceability  energy  key  loudness  mode  speechiness  acousticness  \\\n",
       "0         0.831   0.814    2    -7.364     1       0.4200        0.0598   \n",
       "1         0.719   0.493    8    -7.230     1       0.0794        0.4010   \n",
       "\n",
       "   instrumentalness  liveness  valence  ...                      id  \\\n",
       "0            0.0134    0.0556    0.389  ...  2Vc6NJ9PW9gD9q343XFRKx   \n",
       "1            0.0000    0.1180    0.124  ...  7pgJBLVz5VmnL7uGHmRj6p   \n",
       "\n",
       "                                    uri  \\\n",
       "0  spotify:track:2Vc6NJ9PW9gD9q343XFRKx   \n",
       "1  spotify:track:7pgJBLVz5VmnL7uGHmRj6p   \n",
       "\n",
       "                                          track_href  \\\n",
       "0  https://api.spotify.com/v1/tracks/2Vc6NJ9PW9gD...   \n",
       "1  https://api.spotify.com/v1/tracks/7pgJBLVz5Vmn...   \n",
       "\n",
       "                                        analysis_url duration_ms  \\\n",
       "0  https://api.spotify.com/v1/audio-analysis/2Vc6...      124539   \n",
       "1  https://api.spotify.com/v1/audio-analysis/7pgJ...      224427   \n",
       "\n",
       "  time_signature      genre            song_name Unnamed: 0 title  \n",
       "0              4  Dark Trap  Mercury: Retrograde        NaN   NaN  \n",
       "1              4  Dark Trap            Pathology        NaN   NaN  \n",
       "\n",
       "[2 rows x 22 columns]"
      ]
     },
     "metadata": {},
     "execution_count": 45
    }
   ],
   "metadata": {}
  },
  {
   "cell_type": "code",
   "execution_count": 46,
   "source": [
    "songs_df.info()"
   ],
   "outputs": [
    {
     "output_type": "stream",
     "name": "stdout",
     "text": [
      "<class 'pandas.core.frame.DataFrame'>\n",
      "RangeIndex: 42305 entries, 0 to 42304\n",
      "Data columns (total 22 columns):\n",
      " #   Column            Non-Null Count  Dtype  \n",
      "---  ------            --------------  -----  \n",
      " 0   danceability      42305 non-null  float64\n",
      " 1   energy            42305 non-null  float64\n",
      " 2   key               42305 non-null  int64  \n",
      " 3   loudness          42305 non-null  float64\n",
      " 4   mode              42305 non-null  int64  \n",
      " 5   speechiness       42305 non-null  float64\n",
      " 6   acousticness      42305 non-null  float64\n",
      " 7   instrumentalness  42305 non-null  float64\n",
      " 8   liveness          42305 non-null  float64\n",
      " 9   valence           42305 non-null  float64\n",
      " 10  tempo             42305 non-null  float64\n",
      " 11  type              42305 non-null  object \n",
      " 12  id                42305 non-null  object \n",
      " 13  uri               42305 non-null  object \n",
      " 14  track_href        42305 non-null  object \n",
      " 15  analysis_url      42305 non-null  object \n",
      " 16  duration_ms       42305 non-null  int64  \n",
      " 17  time_signature    42305 non-null  int64  \n",
      " 18  genre             42305 non-null  object \n",
      " 19  song_name         21519 non-null  object \n",
      " 20  Unnamed: 0        20780 non-null  float64\n",
      " 21  title             20780 non-null  object \n",
      "dtypes: float64(10), int64(4), object(8)\n",
      "memory usage: 7.1+ MB\n"
     ]
    }
   ],
   "metadata": {}
  },
  {
   "cell_type": "code",
   "execution_count": 47,
   "source": [
    "songs_df['song_name'].nunique() #drop type, id, uri, track_href, analysis_uri, song_name?, "
   ],
   "outputs": [
    {
     "output_type": "execute_result",
     "data": {
      "text/plain": [
       "15439"
      ]
     },
     "metadata": {},
     "execution_count": 47
    }
   ],
   "metadata": {}
  },
  {
   "cell_type": "code",
   "execution_count": 48,
   "source": [
    "songs_df['Unnamed: 0'].unique"
   ],
   "outputs": [
    {
     "output_type": "execute_result",
     "data": {
      "text/plain": [
       "<bound method Series.unique of 0            NaN\n",
       "1            NaN\n",
       "2            NaN\n",
       "3            NaN\n",
       "4            NaN\n",
       "          ...   \n",
       "42300    20995.0\n",
       "42301    20996.0\n",
       "42302    20997.0\n",
       "42303    20998.0\n",
       "42304    20999.0\n",
       "Name: Unnamed: 0, Length: 42305, dtype: float64>"
      ]
     },
     "metadata": {},
     "execution_count": 48
    }
   ],
   "metadata": {}
  },
  {
   "cell_type": "code",
   "execution_count": 6,
   "source": [
    "def MissingUniqueStatistics(df): #from a kaggle EDA tutorial\n",
    "  \n",
    "  total_entry_list = []\n",
    "  total_missing_value_list = []\n",
    "  missing_value_ratio_list = []\n",
    "  data_type_list = []\n",
    "  unique_values_list = []\n",
    "  number_of_unique_values_list = []\n",
    "  variable_name_list = []\n",
    "  \n",
    "  for col in df.columns:\n",
    "\n",
    "    variable_name_list.append(col)\n",
    "    missing_value_ratio = round((df[col].isna().sum()/len(df[col])),4)\n",
    "    total_entry_list.append(df[col].shape[0] - df[col].isna().sum())\n",
    "    total_missing_value_list.append(df[col].isna().sum())\n",
    "    missing_value_ratio_list.append(missing_value_ratio)\n",
    "    data_type_list.append(df[col].dtype)\n",
    "    unique_values_list.append(list(df[col].unique()))\n",
    "    number_of_unique_values_list.append(len(df[col].unique()))\n",
    "\n",
    "  data_info_df = pd.DataFrame({'Variable':variable_name_list,'#_Total_Entry':total_entry_list,\\\n",
    "                           '#_Missing_Value':total_missing_value_list,'%_Missing_Value':missing_value_ratio_list,\\\n",
    "                           'Data_Type':data_type_list,'Unique_Values':unique_values_list,\\\n",
    "                           '#_Uniques_Values':number_of_unique_values_list})\n",
    "  \n",
    "  return data_info_df.sort_values(by=\"#_Missing_Value\",ascending=False)"
   ],
   "outputs": [],
   "metadata": {}
  },
  {
   "cell_type": "code",
   "execution_count": 49,
   "source": [
    "MissingUniqueStatistics(songs_df)"
   ],
   "outputs": [
    {
     "output_type": "execute_result",
     "data": {
      "text/html": [
       "<div>\n",
       "<style scoped>\n",
       "    .dataframe tbody tr th:only-of-type {\n",
       "        vertical-align: middle;\n",
       "    }\n",
       "\n",
       "    .dataframe tbody tr th {\n",
       "        vertical-align: top;\n",
       "    }\n",
       "\n",
       "    .dataframe thead th {\n",
       "        text-align: right;\n",
       "    }\n",
       "</style>\n",
       "<table border=\"1\" class=\"dataframe\">\n",
       "  <thead>\n",
       "    <tr style=\"text-align: right;\">\n",
       "      <th></th>\n",
       "      <th>Variable</th>\n",
       "      <th>#_Total_Entry</th>\n",
       "      <th>#_Missing_Value</th>\n",
       "      <th>%_Missing_Value</th>\n",
       "      <th>Data_Type</th>\n",
       "      <th>Unique_Values</th>\n",
       "      <th>#_Uniques_Values</th>\n",
       "    </tr>\n",
       "  </thead>\n",
       "  <tbody>\n",
       "    <tr>\n",
       "      <th>21</th>\n",
       "      <td>title</td>\n",
       "      <td>20780</td>\n",
       "      <td>21525</td>\n",
       "      <td>0.5088</td>\n",
       "      <td>object</td>\n",
       "      <td>[nan, Dirtybird Players, Tech House Movement, ...</td>\n",
       "      <td>133</td>\n",
       "    </tr>\n",
       "    <tr>\n",
       "      <th>20</th>\n",
       "      <td>Unnamed: 0</td>\n",
       "      <td>20780</td>\n",
       "      <td>21525</td>\n",
       "      <td>0.5088</td>\n",
       "      <td>float64</td>\n",
       "      <td>[nan, 0.0, 1.0, 2.0, 3.0, 4.0, 5.0, 6.0, 7.0, ...</td>\n",
       "      <td>20781</td>\n",
       "    </tr>\n",
       "    <tr>\n",
       "      <th>19</th>\n",
       "      <td>song_name</td>\n",
       "      <td>21519</td>\n",
       "      <td>20786</td>\n",
       "      <td>0.4913</td>\n",
       "      <td>object</td>\n",
       "      <td>[Mercury: Retrograde, Pathology, Symbiote, Pro...</td>\n",
       "      <td>15440</td>\n",
       "    </tr>\n",
       "    <tr>\n",
       "      <th>1</th>\n",
       "      <td>energy</td>\n",
       "      <td>42305</td>\n",
       "      <td>0</td>\n",
       "      <td>0.0000</td>\n",
       "      <td>float64</td>\n",
       "      <td>[0.8140000000000001, 0.493, 0.893, 0.780999999...</td>\n",
       "      <td>955</td>\n",
       "    </tr>\n",
       "    <tr>\n",
       "      <th>18</th>\n",
       "      <td>genre</td>\n",
       "      <td>42305</td>\n",
       "      <td>0</td>\n",
       "      <td>0.0000</td>\n",
       "      <td>object</td>\n",
       "      <td>[Dark Trap, Underground Rap, Trap Metal, Emo, ...</td>\n",
       "      <td>15</td>\n",
       "    </tr>\n",
       "    <tr>\n",
       "      <th>17</th>\n",
       "      <td>time_signature</td>\n",
       "      <td>42305</td>\n",
       "      <td>0</td>\n",
       "      <td>0.0000</td>\n",
       "      <td>int64</td>\n",
       "      <td>[4, 3, 5, 1]</td>\n",
       "      <td>4</td>\n",
       "    </tr>\n",
       "    <tr>\n",
       "      <th>16</th>\n",
       "      <td>duration_ms</td>\n",
       "      <td>42305</td>\n",
       "      <td>0</td>\n",
       "      <td>0.0000</td>\n",
       "      <td>int64</td>\n",
       "      <td>[124539, 224427, 98821, 123661, 123298, 112511...</td>\n",
       "      <td>26261</td>\n",
       "    </tr>\n",
       "    <tr>\n",
       "      <th>15</th>\n",
       "      <td>analysis_url</td>\n",
       "      <td>42305</td>\n",
       "      <td>0</td>\n",
       "      <td>0.0000</td>\n",
       "      <td>object</td>\n",
       "      <td>[https://api.spotify.com/v1/audio-analysis/2Vc...</td>\n",
       "      <td>35877</td>\n",
       "    </tr>\n",
       "    <tr>\n",
       "      <th>14</th>\n",
       "      <td>track_href</td>\n",
       "      <td>42305</td>\n",
       "      <td>0</td>\n",
       "      <td>0.0000</td>\n",
       "      <td>object</td>\n",
       "      <td>[https://api.spotify.com/v1/tracks/2Vc6NJ9PW9g...</td>\n",
       "      <td>35877</td>\n",
       "    </tr>\n",
       "    <tr>\n",
       "      <th>13</th>\n",
       "      <td>uri</td>\n",
       "      <td>42305</td>\n",
       "      <td>0</td>\n",
       "      <td>0.0000</td>\n",
       "      <td>object</td>\n",
       "      <td>[spotify:track:2Vc6NJ9PW9gD9q343XFRKx, spotify...</td>\n",
       "      <td>35877</td>\n",
       "    </tr>\n",
       "    <tr>\n",
       "      <th>12</th>\n",
       "      <td>id</td>\n",
       "      <td>42305</td>\n",
       "      <td>0</td>\n",
       "      <td>0.0000</td>\n",
       "      <td>object</td>\n",
       "      <td>[2Vc6NJ9PW9gD9q343XFRKx, 7pgJBLVz5VmnL7uGHmRj6...</td>\n",
       "      <td>35877</td>\n",
       "    </tr>\n",
       "    <tr>\n",
       "      <th>0</th>\n",
       "      <td>danceability</td>\n",
       "      <td>42305</td>\n",
       "      <td>0</td>\n",
       "      <td>0.0000</td>\n",
       "      <td>float64</td>\n",
       "      <td>[0.831, 0.7190000000000001, 0.85, 0.476, 0.797...</td>\n",
       "      <td>921</td>\n",
       "    </tr>\n",
       "    <tr>\n",
       "      <th>10</th>\n",
       "      <td>tempo</td>\n",
       "      <td>42305</td>\n",
       "      <td>0</td>\n",
       "      <td>0.0000</td>\n",
       "      <td>float64</td>\n",
       "      <td>[156.985, 115.08, 218.05, 186.948, 147.988, 14...</td>\n",
       "      <td>15569</td>\n",
       "    </tr>\n",
       "    <tr>\n",
       "      <th>9</th>\n",
       "      <td>valence</td>\n",
       "      <td>42305</td>\n",
       "      <td>0</td>\n",
       "      <td>0.0000</td>\n",
       "      <td>float64</td>\n",
       "      <td>[0.389, 0.124, 0.0391, 0.175, 0.591, 0.109, 0....</td>\n",
       "      <td>1716</td>\n",
       "    </tr>\n",
       "    <tr>\n",
       "      <th>8</th>\n",
       "      <td>liveness</td>\n",
       "      <td>42305</td>\n",
       "      <td>0</td>\n",
       "      <td>0.0000</td>\n",
       "      <td>float64</td>\n",
       "      <td>[0.0556, 0.118, 0.3720000000000001, 0.114, 0.1...</td>\n",
       "      <td>1737</td>\n",
       "    </tr>\n",
       "    <tr>\n",
       "      <th>7</th>\n",
       "      <td>instrumentalness</td>\n",
       "      <td>42305</td>\n",
       "      <td>0</td>\n",
       "      <td>0.0000</td>\n",
       "      <td>float64</td>\n",
       "      <td>[0.0134, 0.0, 4.14e-06, 0.212, 0.0078, 0.0311,...</td>\n",
       "      <td>4867</td>\n",
       "    </tr>\n",
       "    <tr>\n",
       "      <th>6</th>\n",
       "      <td>acousticness</td>\n",
       "      <td>42305</td>\n",
       "      <td>0</td>\n",
       "      <td>0.0000</td>\n",
       "      <td>float64</td>\n",
       "      <td>[0.0598, 0.401, 0.0138, 0.0237, 0.217, 0.0452,...</td>\n",
       "      <td>4707</td>\n",
       "    </tr>\n",
       "    <tr>\n",
       "      <th>5</th>\n",
       "      <td>speechiness</td>\n",
       "      <td>42305</td>\n",
       "      <td>0</td>\n",
       "      <td>0.0000</td>\n",
       "      <td>float64</td>\n",
       "      <td>[0.42, 0.0794, 0.0623, 0.103, 0.293, 0.414, 0....</td>\n",
       "      <td>1474</td>\n",
       "    </tr>\n",
       "    <tr>\n",
       "      <th>4</th>\n",
       "      <td>mode</td>\n",
       "      <td>42305</td>\n",
       "      <td>0</td>\n",
       "      <td>0.0000</td>\n",
       "      <td>int64</td>\n",
       "      <td>[1, 0]</td>\n",
       "      <td>2</td>\n",
       "    </tr>\n",
       "    <tr>\n",
       "      <th>3</th>\n",
       "      <td>loudness</td>\n",
       "      <td>42305</td>\n",
       "      <td>0</td>\n",
       "      <td>0.0000</td>\n",
       "      <td>float64</td>\n",
       "      <td>[-7.364, -7.23, -4.783, -4.71, -7.667999999999...</td>\n",
       "      <td>12105</td>\n",
       "    </tr>\n",
       "    <tr>\n",
       "      <th>2</th>\n",
       "      <td>key</td>\n",
       "      <td>42305</td>\n",
       "      <td>0</td>\n",
       "      <td>0.0000</td>\n",
       "      <td>int64</td>\n",
       "      <td>[2, 8, 5, 0, 1, 11, 10, 6, 7, 9, 4, 3]</td>\n",
       "      <td>12</td>\n",
       "    </tr>\n",
       "    <tr>\n",
       "      <th>11</th>\n",
       "      <td>type</td>\n",
       "      <td>42305</td>\n",
       "      <td>0</td>\n",
       "      <td>0.0000</td>\n",
       "      <td>object</td>\n",
       "      <td>[audio_features]</td>\n",
       "      <td>1</td>\n",
       "    </tr>\n",
       "  </tbody>\n",
       "</table>\n",
       "</div>"
      ],
      "text/plain": [
       "            Variable  #_Total_Entry  #_Missing_Value  %_Missing_Value  \\\n",
       "21             title          20780            21525           0.5088   \n",
       "20        Unnamed: 0          20780            21525           0.5088   \n",
       "19         song_name          21519            20786           0.4913   \n",
       "1             energy          42305                0           0.0000   \n",
       "18             genre          42305                0           0.0000   \n",
       "17    time_signature          42305                0           0.0000   \n",
       "16       duration_ms          42305                0           0.0000   \n",
       "15      analysis_url          42305                0           0.0000   \n",
       "14        track_href          42305                0           0.0000   \n",
       "13               uri          42305                0           0.0000   \n",
       "12                id          42305                0           0.0000   \n",
       "0       danceability          42305                0           0.0000   \n",
       "10             tempo          42305                0           0.0000   \n",
       "9            valence          42305                0           0.0000   \n",
       "8           liveness          42305                0           0.0000   \n",
       "7   instrumentalness          42305                0           0.0000   \n",
       "6       acousticness          42305                0           0.0000   \n",
       "5        speechiness          42305                0           0.0000   \n",
       "4               mode          42305                0           0.0000   \n",
       "3           loudness          42305                0           0.0000   \n",
       "2                key          42305                0           0.0000   \n",
       "11              type          42305                0           0.0000   \n",
       "\n",
       "   Data_Type                                      Unique_Values  \\\n",
       "21    object  [nan, Dirtybird Players, Tech House Movement, ...   \n",
       "20   float64  [nan, 0.0, 1.0, 2.0, 3.0, 4.0, 5.0, 6.0, 7.0, ...   \n",
       "19    object  [Mercury: Retrograde, Pathology, Symbiote, Pro...   \n",
       "1    float64  [0.8140000000000001, 0.493, 0.893, 0.780999999...   \n",
       "18    object  [Dark Trap, Underground Rap, Trap Metal, Emo, ...   \n",
       "17     int64                                       [4, 3, 5, 1]   \n",
       "16     int64  [124539, 224427, 98821, 123661, 123298, 112511...   \n",
       "15    object  [https://api.spotify.com/v1/audio-analysis/2Vc...   \n",
       "14    object  [https://api.spotify.com/v1/tracks/2Vc6NJ9PW9g...   \n",
       "13    object  [spotify:track:2Vc6NJ9PW9gD9q343XFRKx, spotify...   \n",
       "12    object  [2Vc6NJ9PW9gD9q343XFRKx, 7pgJBLVz5VmnL7uGHmRj6...   \n",
       "0    float64  [0.831, 0.7190000000000001, 0.85, 0.476, 0.797...   \n",
       "10   float64  [156.985, 115.08, 218.05, 186.948, 147.988, 14...   \n",
       "9    float64  [0.389, 0.124, 0.0391, 0.175, 0.591, 0.109, 0....   \n",
       "8    float64  [0.0556, 0.118, 0.3720000000000001, 0.114, 0.1...   \n",
       "7    float64  [0.0134, 0.0, 4.14e-06, 0.212, 0.0078, 0.0311,...   \n",
       "6    float64  [0.0598, 0.401, 0.0138, 0.0237, 0.217, 0.0452,...   \n",
       "5    float64  [0.42, 0.0794, 0.0623, 0.103, 0.293, 0.414, 0....   \n",
       "4      int64                                             [1, 0]   \n",
       "3    float64  [-7.364, -7.23, -4.783, -4.71, -7.667999999999...   \n",
       "2      int64             [2, 8, 5, 0, 1, 11, 10, 6, 7, 9, 4, 3]   \n",
       "11    object                                   [audio_features]   \n",
       "\n",
       "    #_Uniques_Values  \n",
       "21               133  \n",
       "20             20781  \n",
       "19             15440  \n",
       "1                955  \n",
       "18                15  \n",
       "17                 4  \n",
       "16             26261  \n",
       "15             35877  \n",
       "14             35877  \n",
       "13             35877  \n",
       "12             35877  \n",
       "0                921  \n",
       "10             15569  \n",
       "9               1716  \n",
       "8               1737  \n",
       "7               4867  \n",
       "6               4707  \n",
       "5               1474  \n",
       "4                  2  \n",
       "3              12105  \n",
       "2                 12  \n",
       "11                 1  "
      ]
     },
     "metadata": {},
     "execution_count": 49
    }
   ],
   "metadata": {}
  },
  {
   "cell_type": "markdown",
   "source": [
    "## Wrangle"
   ],
   "metadata": {}
  },
  {
   "cell_type": "code",
   "execution_count": 50,
   "source": [
    "def wrangle(df):\n",
    "    # drop columns not in use by nearest-neighbors \n",
    "    df.drop(columns=['type', 'id', 'uri', 'track_href', 'analysis_url', 'title', 'Unnamed: 0'], inplace=True)\n",
    "    # drop unuseful audeio features\n",
    "    df.drop(columns=['instrumentalness', 'key', 'time_signature'], inplace=True)\n",
    "    # drop genre, might not work well with nearest-neighbors and does not appear in spotify api request\n",
    "    df.drop(columns=['genre'], inplace=True)\n",
    "    \n",
    "    # making a pool of songs to use as query items\n",
    "    test_df = df[df['song_name'].isna() == True]\n",
    "    # dropping rows without song_names, maybe we can keep them if we implement the api calls\n",
    "    df = df[df['song_name'].isna() == False]\n",
    "    # drop song-name, not used in nearest-neighbors\n",
    "    df.drop(columns=['song_name'], inplace=True)\n",
    "    test_df.drop(columns=['song_name'], inplace=True)\n",
    "    \n",
    "    \n",
    "    return df, test_df"
   ],
   "outputs": [],
   "metadata": {}
  },
  {
   "cell_type": "code",
   "execution_count": 51,
   "source": [
    "df, test_df = wrangle(songs_df.copy())"
   ],
   "outputs": [],
   "metadata": {}
  },
  {
   "cell_type": "markdown",
   "source": [],
   "metadata": {}
  },
  {
   "cell_type": "code",
   "execution_count": 53,
   "source": [
    "df.to_csv('updated.csv', index=False)"
   ],
   "outputs": [],
   "metadata": {}
  },
  {
   "cell_type": "code",
   "execution_count": 59,
   "source": [
    "MissingUniqueStatistics(df)"
   ],
   "outputs": [
    {
     "output_type": "execute_result",
     "data": {
      "text/html": [
       "<div>\n",
       "<style scoped>\n",
       "    .dataframe tbody tr th:only-of-type {\n",
       "        vertical-align: middle;\n",
       "    }\n",
       "\n",
       "    .dataframe tbody tr th {\n",
       "        vertical-align: top;\n",
       "    }\n",
       "\n",
       "    .dataframe thead th {\n",
       "        text-align: right;\n",
       "    }\n",
       "</style>\n",
       "<table border=\"1\" class=\"dataframe\">\n",
       "  <thead>\n",
       "    <tr style=\"text-align: right;\">\n",
       "      <th></th>\n",
       "      <th>Variable</th>\n",
       "      <th>#_Total_Entry</th>\n",
       "      <th>#_Missing_Value</th>\n",
       "      <th>%_Missing_Value</th>\n",
       "      <th>Data_Type</th>\n",
       "      <th>Unique_Values</th>\n",
       "      <th>#_Uniques_Values</th>\n",
       "    </tr>\n",
       "  </thead>\n",
       "  <tbody>\n",
       "    <tr>\n",
       "      <th>0</th>\n",
       "      <td>danceability</td>\n",
       "      <td>21519</td>\n",
       "      <td>0</td>\n",
       "      <td>0.0</td>\n",
       "      <td>float64</td>\n",
       "      <td>[0.831, 0.7190000000000001, 0.85, 0.476, 0.797...</td>\n",
       "      <td>824</td>\n",
       "    </tr>\n",
       "    <tr>\n",
       "      <th>1</th>\n",
       "      <td>energy</td>\n",
       "      <td>21519</td>\n",
       "      <td>0</td>\n",
       "      <td>0.0</td>\n",
       "      <td>float64</td>\n",
       "      <td>[0.8140000000000001, 0.493, 0.893, 0.780999999...</td>\n",
       "      <td>893</td>\n",
       "    </tr>\n",
       "    <tr>\n",
       "      <th>2</th>\n",
       "      <td>loudness</td>\n",
       "      <td>21519</td>\n",
       "      <td>0</td>\n",
       "      <td>0.0</td>\n",
       "      <td>float64</td>\n",
       "      <td>[-7.364, -7.23, -4.783, -4.71, -7.667999999999...</td>\n",
       "      <td>8612</td>\n",
       "    </tr>\n",
       "    <tr>\n",
       "      <th>3</th>\n",
       "      <td>mode</td>\n",
       "      <td>21519</td>\n",
       "      <td>0</td>\n",
       "      <td>0.0</td>\n",
       "      <td>int64</td>\n",
       "      <td>[1, 0]</td>\n",
       "      <td>2</td>\n",
       "    </tr>\n",
       "    <tr>\n",
       "      <th>4</th>\n",
       "      <td>speechiness</td>\n",
       "      <td>21519</td>\n",
       "      <td>0</td>\n",
       "      <td>0.0</td>\n",
       "      <td>float64</td>\n",
       "      <td>[0.42, 0.0794, 0.0623, 0.103, 0.293, 0.414, 0....</td>\n",
       "      <td>1369</td>\n",
       "    </tr>\n",
       "    <tr>\n",
       "      <th>5</th>\n",
       "      <td>acousticness</td>\n",
       "      <td>21519</td>\n",
       "      <td>0</td>\n",
       "      <td>0.0</td>\n",
       "      <td>float64</td>\n",
       "      <td>[0.0598, 0.401, 0.0138, 0.0237, 0.217, 0.0452,...</td>\n",
       "      <td>3359</td>\n",
       "    </tr>\n",
       "    <tr>\n",
       "      <th>6</th>\n",
       "      <td>liveness</td>\n",
       "      <td>21519</td>\n",
       "      <td>0</td>\n",
       "      <td>0.0</td>\n",
       "      <td>float64</td>\n",
       "      <td>[0.0556, 0.118, 0.372, 0.114, 0.166, 0.128, 0....</td>\n",
       "      <td>1414</td>\n",
       "    </tr>\n",
       "    <tr>\n",
       "      <th>7</th>\n",
       "      <td>valence</td>\n",
       "      <td>21519</td>\n",
       "      <td>0</td>\n",
       "      <td>0.0</td>\n",
       "      <td>float64</td>\n",
       "      <td>[0.389, 0.124, 0.0391, 0.175, 0.591, 0.109, 0....</td>\n",
       "      <td>1477</td>\n",
       "    </tr>\n",
       "    <tr>\n",
       "      <th>8</th>\n",
       "      <td>tempo</td>\n",
       "      <td>21519</td>\n",
       "      <td>0</td>\n",
       "      <td>0.0</td>\n",
       "      <td>float64</td>\n",
       "      <td>[156.985, 115.08, 218.05, 186.948, 147.988, 14...</td>\n",
       "      <td>12794</td>\n",
       "    </tr>\n",
       "    <tr>\n",
       "      <th>9</th>\n",
       "      <td>duration_ms</td>\n",
       "      <td>21519</td>\n",
       "      <td>0</td>\n",
       "      <td>0.0</td>\n",
       "      <td>int64</td>\n",
       "      <td>[124539, 224427, 98821, 123661, 123298, 112511...</td>\n",
       "      <td>14240</td>\n",
       "    </tr>\n",
       "  </tbody>\n",
       "</table>\n",
       "</div>"
      ],
      "text/plain": [
       "       Variable  #_Total_Entry  #_Missing_Value  %_Missing_Value Data_Type  \\\n",
       "0  danceability          21519                0              0.0   float64   \n",
       "1        energy          21519                0              0.0   float64   \n",
       "2      loudness          21519                0              0.0   float64   \n",
       "3          mode          21519                0              0.0     int64   \n",
       "4   speechiness          21519                0              0.0   float64   \n",
       "5  acousticness          21519                0              0.0   float64   \n",
       "6      liveness          21519                0              0.0   float64   \n",
       "7       valence          21519                0              0.0   float64   \n",
       "8         tempo          21519                0              0.0   float64   \n",
       "9   duration_ms          21519                0              0.0     int64   \n",
       "\n",
       "                                       Unique_Values  #_Uniques_Values  \n",
       "0  [0.831, 0.7190000000000001, 0.85, 0.476, 0.797...               824  \n",
       "1  [0.8140000000000001, 0.493, 0.893, 0.780999999...               893  \n",
       "2  [-7.364, -7.23, -4.783, -4.71, -7.667999999999...              8612  \n",
       "3                                             [1, 0]                 2  \n",
       "4  [0.42, 0.0794, 0.0623, 0.103, 0.293, 0.414, 0....              1369  \n",
       "5  [0.0598, 0.401, 0.0138, 0.0237, 0.217, 0.0452,...              3359  \n",
       "6  [0.0556, 0.118, 0.372, 0.114, 0.166, 0.128, 0....              1414  \n",
       "7  [0.389, 0.124, 0.0391, 0.175, 0.591, 0.109, 0....              1477  \n",
       "8  [156.985, 115.08, 218.05, 186.948, 147.988, 14...             12794  \n",
       "9  [124539, 224427, 98821, 123661, 123298, 112511...             14240  "
      ]
     },
     "metadata": {},
     "execution_count": 59
    }
   ],
   "metadata": {
    "tags": []
   }
  },
  {
   "cell_type": "code",
   "execution_count": 10,
   "source": [
    "dist_cols = df.columns[:-1]\n",
    "dist_cols"
   ],
   "outputs": [
    {
     "output_type": "execute_result",
     "data": {
      "text/plain": [
       "Index(['danceability', 'energy', 'loudness', 'mode', 'speechiness',\n",
       "       'acousticness', 'liveness', 'valence', 'tempo'],\n",
       "      dtype='object')"
      ]
     },
     "metadata": {},
     "execution_count": 10
    }
   ],
   "metadata": {}
  },
  {
   "cell_type": "code",
   "execution_count": null,
   "source": [
    "# sns.histplot(data=df, x='genre')\n",
    "# plt.xticks(\n",
    "#     rotation=45, \n",
    "#     horizontalalignment='right',\n",
    "#     fontweight='light',\n",
    "#     fontsize='small'  \n",
    "# )\n",
    "# plt.show()"
   ],
   "outputs": [],
   "metadata": {
    "collapsed": true,
    "jupyter": {
     "outputs_hidden": true
    },
    "tags": []
   }
  },
  {
   "cell_type": "code",
   "execution_count": 62,
   "source": [
    "sns.histplot(data=songs_df, x='genre')\n",
    "plt.xticks(\n",
    "    rotation=45, \n",
    "    horizontalalignment='right',\n",
    "    fontweight='light',\n",
    "    fontsize='small'  \n",
    ")\n",
    "plt.show()"
   ],
   "outputs": [
    {
     "output_type": "display_data",
     "data": {
      "image/png": "[encoded data removed]",
      "text/plain": [
       "<Figure size 640x480 with 1 Axes>"
      ]
     },
     "metadata": {}
    }
   ],
   "metadata": {}
  },
  {
   "cell_type": "code",
   "execution_count": 127,
   "source": [
    "plt.rcParams['figure.figsize'] = [11, 13]\n",
    "i = 1\n",
    "for column in df.columns:\n",
    "    plt.subplot(4,3,i)\n",
    "    plt.ylabel(' ')\n",
    "#     plt.figure()\n",
    "    sns.distplot(df[column])\n",
    "    i += 1\n",
    "    \n",
    "plt.show()\n",
    "plt.rcParams.update(plt.rcParamsDefault)"
   ],
   "outputs": [
    {
     "output_type": "display_data",
     "data": {
      "image/png": "[encoded data removed]",
      "text/plain": [
       "<Figure size 1100x1300 with 10 Axes>"
      ]
     },
     "metadata": {}
    }
   ],
   "metadata": {}
  },
  {
   "cell_type": "markdown",
   "source": [
    "## Nearest Neighbors"
   ],
   "metadata": {}
  },
  {
   "cell_type": "code",
   "execution_count": 11,
   "source": [
    "from sklearn.neighbors import NearestNeighbors\n",
    "from sklearn.preprocessing import StandardScaler"
   ],
   "outputs": [],
   "metadata": {}
  },
  {
   "cell_type": "code",
   "execution_count": 12,
   "source": [
    "# standard scaler removes the mean and scales to unit variance for each feature\n",
    "scaler = StandardScaler()\n",
    "scaler.fit(df)\n",
    "df_s = scaler.transform(df)\n",
    "df_s[0]"
   ],
   "outputs": [
    {
     "output_type": "execute_result",
     "data": {
      "text/plain": [
       "array([ 0.98114234,  0.89205813, -0.11161956,  0.84569973,  1.72013654,\n",
       "       -0.51563742, -0.92281925, -0.12145624,  0.18891219, -1.15913364])"
      ]
     },
     "metadata": {},
     "execution_count": 12
    }
   ],
   "metadata": {}
  },
  {
   "cell_type": "code",
   "execution_count": 13,
   "source": [
    "# Instantiate nearest-neighbors estimator, n_neighbors is Number of neighbors to use by default for kneighbors queries.\n",
    "neigh = NearestNeighbors(n_neighbors=5)"
   ],
   "outputs": [],
   "metadata": {}
  },
  {
   "cell_type": "code",
   "execution_count": 14,
   "source": [
    "# fit to our song's audio features\n",
    "neigh.fit(df)"
   ],
   "outputs": [
    {
     "output_type": "execute_result",
     "data": {
      "text/plain": [
       "NearestNeighbors()"
      ]
     },
     "metadata": {},
     "execution_count": 14
    }
   ],
   "metadata": {}
  },
  {
   "cell_type": "code",
   "execution_count": 15,
   "source": [
    "# test query, scale with the fitted scaler\n",
    "test_song = scaler.transform([test_df.iloc[0]])"
   ],
   "outputs": [],
   "metadata": {}
  },
  {
   "cell_type": "code",
   "execution_count": 16,
   "source": [
    "# query the fitted estimator\n",
    "similars = neigh.kneighbors(test_song, 5, return_distance=False)"
   ],
   "outputs": [],
   "metadata": {}
  },
  {
   "cell_type": "code",
   "execution_count": 17,
   "source": [
    "# heres our query song's features\n",
    "test_df.iloc[0]"
   ],
   "outputs": [
    {
     "output_type": "execute_result",
     "data": {
      "text/plain": [
       "danceability         0.714\n",
       "energy               0.821\n",
       "loudness            -7.635\n",
       "mode                 1.000\n",
       "speechiness          0.176\n",
       "acousticness         0.041\n",
       "liveness             0.116\n",
       "valence              0.649\n",
       "tempo              191.998\n",
       "duration_ms     282707.000\n",
       "Name: 18597, dtype: float64"
      ]
     },
     "metadata": {},
     "execution_count": 17
    }
   ],
   "metadata": {}
  },
  {
   "cell_type": "code",
   "execution_count": 18,
   "source": [
    "# here's our query result features\n",
    "for song in similars:\n",
    "    print(df.iloc[song])"
   ],
   "outputs": [
    {
     "output_type": "stream",
     "name": "stdout",
     "text": [
      "       danceability  energy  loudness  mode  speechiness  acousticness  \\\n",
      "19532         0.590   0.162    -7.086     1       0.0887        0.9730   \n",
      "2372          0.743   0.453    -7.194     1       0.5770        0.0599   \n",
      "18974         0.875   0.482   -14.403     1       0.3790        0.1360   \n",
      "19748         0.746   0.338   -13.472     0       0.1090        0.6740   \n",
      "5883          0.399   0.818   -11.361     1       0.4590        0.5420   \n",
      "\n",
      "       liveness  valence    tempo  duration_ms  \n",
      "19532    0.1040    0.782  172.639        38333  \n",
      "2372     0.0307    0.529  138.360        42133  \n",
      "18974    0.3460    0.660  199.736        48107  \n",
      "19748    0.5290    0.469  120.053        48423  \n",
      "5883     0.7400    0.403  109.412        49227  \n"
     ]
    }
   ],
   "metadata": {}
  },
  {
   "cell_type": "markdown",
   "source": [
    "## Testing out getting audio features from spotify api"
   ],
   "metadata": {}
  },
  {
   "cell_type": "code",
   "execution_count": 19,
   "source": [
    "import requests\n",
    "#'ffd61f80a4dd4d7c8fc0c289d994fec0' '4d2e3a2dc89c45be83eaa5083b9b1b48'\n",
    "\n",
    "CLIENT_ID = 'ffd61f80a4dd4d7c8fc0c289d994fec0'\n",
    "CLIENT_SECRET = '4d2e3a2dc89c45be83eaa5083b9b1b48'"
   ],
   "outputs": [],
   "metadata": {}
  },
  {
   "cell_type": "code",
   "execution_count": null,
   "source": [
    "# https://open.spotify.com/track/1p80LdxRV74UKvL8gnD7ky?si=3d78aca9e2a64b32\n",
    "# 31779d48c8d343a9 some bullshit"
   ],
   "outputs": [],
   "metadata": {}
  },
  {
   "cell_type": "code",
   "execution_count": 40,
   "source": [
    "AUTH_URL = 'https://accounts.spotify.com/api/token'\n",
    "\n",
    "# POST\n",
    "auth_response = requests.post(AUTH_URL, {\n",
    "    'grant_type': 'client_credentials',\n",
    "    'client_id': CLIENT_ID,\n",
    "    'client_secret': CLIENT_SECRET,\n",
    "})\n",
    "\n",
    "# convert the response to JSON\n",
    "auth_response_data = auth_response.json()\n",
    "\n",
    "# save the access token\n",
    "access_token = auth_response_data['access_token']"
   ],
   "outputs": [],
   "metadata": {}
  },
  {
   "cell_type": "code",
   "execution_count": 41,
   "source": [
    "headers = {\n",
    "    'Authorization': 'Bearer {token}'.format(token=access_token)\n",
    "}\n",
    "\n",
    "BASE_URL = 'https://api.spotify.com/v1/'\n",
    "\n",
    "# Track ID from the URI\n",
    "track_id = '1p80LdxRV74UKvL8gnD7ky'\n",
    "\n",
    "# actual GET request with proper header\n",
    "r = requests.get(BASE_URL + 'audio-features/' + track_id, headers=headers)\n",
    "\n",
    "song_dict = r.json()\n",
    "song_dict"
   ],
   "outputs": [
    {
     "output_type": "execute_result",
     "data": {
      "text/plain": [
       "{'danceability': 0.752,\n",
       " 'energy': 0.678,\n",
       " 'key': 5,\n",
       " 'loudness': -5.421,\n",
       " 'mode': 1,\n",
       " 'speechiness': 0.0646,\n",
       " 'acousticness': 0.085,\n",
       " 'instrumentalness': 1.64e-06,\n",
       " 'liveness': 0.13,\n",
       " 'valence': 0.583,\n",
       " 'tempo': 96.009,\n",
       " 'type': 'audio_features',\n",
       " 'id': '1p80LdxRV74UKvL8gnD7ky',\n",
       " 'uri': 'spotify:track:1p80LdxRV74UKvL8gnD7ky',\n",
       " 'track_href': 'https://api.spotify.com/v1/tracks/1p80LdxRV74UKvL8gnD7ky',\n",
       " 'analysis_url': 'https://api.spotify.com/v1/audio-analysis/1p80LdxRV74UKvL8gnD7ky',\n",
       " 'duration_ms': 231827,\n",
       " 'time_signature': 4}"
      ]
     },
     "metadata": {},
     "execution_count": 41
    }
   ],
   "metadata": {}
  },
  {
   "cell_type": "code",
   "execution_count": 23,
   "source": [
    "query_nn = np.array([song_dict[x] for x in df.columns])\n",
    "query_nn"
   ],
   "outputs": [
    {
     "output_type": "execute_result",
     "data": {
      "text/plain": [
       "array([ 7.52000e-01,  6.78000e-01, -5.42100e+00,  1.00000e+00,\n",
       "        6.46000e-02,  8.50000e-02,  1.30000e-01,  5.83000e-01,\n",
       "        9.60090e+01,  2.31827e+05])"
      ]
     },
     "metadata": {},
     "execution_count": 23
    }
   ],
   "metadata": {}
  },
  {
   "cell_type": "code",
   "execution_count": 42,
   "source": [
    "print(df.columns)"
   ],
   "outputs": [
    {
     "output_type": "stream",
     "name": "stdout",
     "text": [
      "Index(['danceability', 'energy', 'loudness', 'mode', 'speechiness',\n",
      "       'acousticness', 'liveness', 'valence', 'tempo', 'duration_ms'],\n",
      "      dtype='object')\n"
     ]
    }
   ],
   "metadata": {}
  },
  {
   "cell_type": "code",
   "execution_count": 24,
   "source": [
    "api_similars = neigh.kneighbors(scaler.transform([query_nn]), 5, return_distance=False)\n",
    "api_similars"
   ],
   "outputs": [
    {
     "output_type": "execute_result",
     "data": {
      "text/plain": [
       "array([[19531,  2372, 18973, 19742,  5883]])"
      ]
     },
     "metadata": {},
     "execution_count": 24
    }
   ],
   "metadata": {}
  },
  {
   "cell_type": "code",
   "execution_count": 31,
   "source": [
    "import pickle"
   ],
   "outputs": [],
   "metadata": {}
  },
  {
   "cell_type": "code",
   "execution_count": 37,
   "source": [
    "pickle.dump(neigh, open('spotty_model', 'wb'))"
   ],
   "outputs": [],
   "metadata": {}
  },
  {
   "cell_type": "code",
   "execution_count": 25,
   "source": [
    "query_results = songs_df.loc[api_similars[0]]['uri']"
   ],
   "outputs": [],
   "metadata": {}
  },
  {
   "cell_type": "code",
   "execution_count": 26,
   "source": [
    "query_results"
   ],
   "outputs": [
    {
     "output_type": "execute_result",
     "data": {
      "text/plain": [
       "19531    spotify:track:3QmesrvdbPjwf7i40nht1D\n",
       "2372     spotify:track:0uhSrMl8tfS1APseIb97CW\n",
       "18973    spotify:track:4qLmCFNUlFJXOb9TvU9D2L\n",
       "19742    spotify:track:5YpZh8wfS4moRBk0ijNcXr\n",
       "5883     spotify:track:0L1RASB4kWt9VDqJxX4yBF\n",
       "Name: uri, dtype: object"
      ]
     },
     "metadata": {},
     "execution_count": 26
    }
   ],
   "metadata": {}
  },
  {
   "cell_type": "code",
   "execution_count": 27,
   "source": [
    "links = query_results.apply(lambda x: 'https://open.spotify.com/track/' + x[14:])"
   ],
   "outputs": [],
   "metadata": {}
  },
  {
   "cell_type": "code",
   "execution_count": 30,
   "source": [
    "print(links.values[0])"
   ],
   "outputs": [
    {
     "output_type": "stream",
     "name": "stdout",
     "text": [
      "https://open.spotify.com/track/3QmesrvdbPjwf7i40nht1D\n"
     ]
    }
   ],
   "metadata": {}
  }
 ],
 "metadata": {
  "kernelspec": {
   "name": "python3",
   "display_name": "Python 3.8.6 64-bit"
  },
  "language_info": {
   "codemirror_mode": {
    "name": "ipython",
    "version": 3
   },
   "file_extension": ".py",
   "mimetype": "text/x-python",
   "name": "python",
   "nbconvert_exporter": "python",
   "pygments_lexer": "ipython3",
   "version": "3.8.6"
  },
  "interpreter": {
   "hash": "aee8b7b246df8f9039afb4144a1f6fd8d2ca17a180786b69acc140d282b71a49"
  }
 },
 "nbformat": 4,
 "nbformat_minor": 5
}