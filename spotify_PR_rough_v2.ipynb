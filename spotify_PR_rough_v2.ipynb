{
 "cells": [
  {
   "cell_type": "markdown",
   "id": "ff4e4c4e-b85e-4093-86a1-c0a0c5291e80",
   "metadata": {
    "tags": []
   },
   "source": [
    "## Load libraries and Data"
   ]
  },
  {
   "cell_type": "code",
   "execution_count": 1,
   "id": "4a449b41-76bd-41ef-8569-9adde57ff252",
   "metadata": {},
   "outputs": [
    {
     "name": "stderr",
     "output_type": "stream",
     "text": [
      "In /home/prockwood/anaconda3/lib/python3.8/site-packages/matplotlib/mpl-data/stylelib/_classic_test.mplstyle: \n",
      "The text.latex.preview rcparam was deprecated in Matplotlib 3.3 and will be removed two minor releases later.\n",
      "In /home/prockwood/anaconda3/lib/python3.8/site-packages/matplotlib/mpl-data/stylelib/_classic_test.mplstyle: \n",
      "The mathtext.fallback_to_cm rcparam was deprecated in Matplotlib 3.3 and will be removed two minor releases later.\n",
      "In /home/prockwood/anaconda3/lib/python3.8/site-packages/matplotlib/mpl-data/stylelib/_classic_test.mplstyle: Support for setting the 'mathtext.fallback_to_cm' rcParam is deprecated since 3.3 and will be removed two minor releases later; use 'mathtext.fallback : 'cm' instead.\n",
      "In /home/prockwood/anaconda3/lib/python3.8/site-packages/matplotlib/mpl-data/stylelib/_classic_test.mplstyle: \n",
      "The validate_bool_maybe_none function was deprecated in Matplotlib 3.3 and will be removed two minor releases later.\n",
      "In /home/prockwood/anaconda3/lib/python3.8/site-packages/matplotlib/mpl-data/stylelib/_classic_test.mplstyle: \n",
      "The savefig.jpeg_quality rcparam was deprecated in Matplotlib 3.3 and will be removed two minor releases later.\n",
      "In /home/prockwood/anaconda3/lib/python3.8/site-packages/matplotlib/mpl-data/stylelib/_classic_test.mplstyle: \n",
      "The keymap.all_axes rcparam was deprecated in Matplotlib 3.3 and will be removed two minor releases later.\n",
      "In /home/prockwood/anaconda3/lib/python3.8/site-packages/matplotlib/mpl-data/stylelib/_classic_test.mplstyle: \n",
      "The animation.avconv_path rcparam was deprecated in Matplotlib 3.3 and will be removed two minor releases later.\n",
      "In /home/prockwood/anaconda3/lib/python3.8/site-packages/matplotlib/mpl-data/stylelib/_classic_test.mplstyle: \n",
      "The animation.avconv_args rcparam was deprecated in Matplotlib 3.3 and will be removed two minor releases later.\n"
     ]
    }
   ],
   "source": [
    "import pandas as pd\n",
    "import numpy as np\n",
    "\n",
    "import matplotlib.pyplot as plt\n",
    "import seaborn as sns\n",
    "\n",
    "import pickle\n",
    "\n",
    "import requests\n",
    "\n",
    "import warnings\n",
    "warnings.filterwarnings('ignore')"
   ]
  },
  {
   "cell_type": "code",
   "execution_count": 78,
   "id": "48dcc536-07a4-49b7-882f-d0d6672820d4",
   "metadata": {},
   "outputs": [],
   "source": [
    "songs_df = pd.read_csv('genres_v2.csv')"
   ]
  },
  {
   "cell_type": "markdown",
   "id": "b4aa1394-60c4-4b76-8ae6-387afe6007b0",
   "metadata": {
    "tags": []
   },
   "source": [
    "## Look at df"
   ]
  },
  {
   "cell_type": "code",
   "execution_count": 3,
   "id": "f77b6276-870e-4cb0-8ac5-3d71cea49cdd",
   "metadata": {},
   "outputs": [
    {
     "data": {
      "text/html": [
       "<div>\n",
       "<style scoped>\n",
       "    .dataframe tbody tr th:only-of-type {\n",
       "        vertical-align: middle;\n",
       "    }\n",
       "\n",
       "    .dataframe tbody tr th {\n",
       "        vertical-align: top;\n",
       "    }\n",
       "\n",
       "    .dataframe thead th {\n",
       "        text-align: right;\n",
       "    }\n",
       "</style>\n",
       "<table border=\"1\" class=\"dataframe\">\n",
       "  <thead>\n",
       "    <tr style=\"text-align: right;\">\n",
       "      <th></th>\n",
       "      <th>danceability</th>\n",
       "      <th>energy</th>\n",
       "      <th>key</th>\n",
       "      <th>loudness</th>\n",
       "      <th>mode</th>\n",
       "      <th>speechiness</th>\n",
       "      <th>acousticness</th>\n",
       "      <th>instrumentalness</th>\n",
       "      <th>liveness</th>\n",
       "      <th>valence</th>\n",
       "      <th>...</th>\n",
       "      <th>id</th>\n",
       "      <th>uri</th>\n",
       "      <th>track_href</th>\n",
       "      <th>analysis_url</th>\n",
       "      <th>duration_ms</th>\n",
       "      <th>time_signature</th>\n",
       "      <th>genre</th>\n",
       "      <th>song_name</th>\n",
       "      <th>Unnamed: 0</th>\n",
       "      <th>title</th>\n",
       "    </tr>\n",
       "  </thead>\n",
       "  <tbody>\n",
       "    <tr>\n",
       "      <th>0</th>\n",
       "      <td>0.831</td>\n",
       "      <td>0.814</td>\n",
       "      <td>2</td>\n",
       "      <td>-7.364</td>\n",
       "      <td>1</td>\n",
       "      <td>0.4200</td>\n",
       "      <td>0.0598</td>\n",
       "      <td>0.0134</td>\n",
       "      <td>0.0556</td>\n",
       "      <td>0.389</td>\n",
       "      <td>...</td>\n",
       "      <td>2Vc6NJ9PW9gD9q343XFRKx</td>\n",
       "      <td>spotify:track:2Vc6NJ9PW9gD9q343XFRKx</td>\n",
       "      <td>https://api.spotify.com/v1/tracks/2Vc6NJ9PW9gD...</td>\n",
       "      <td>https://api.spotify.com/v1/audio-analysis/2Vc6...</td>\n",
       "      <td>124539</td>\n",
       "      <td>4</td>\n",
       "      <td>Dark Trap</td>\n",
       "      <td>Mercury: Retrograde</td>\n",
       "      <td>NaN</td>\n",
       "      <td>NaN</td>\n",
       "    </tr>\n",
       "    <tr>\n",
       "      <th>1</th>\n",
       "      <td>0.719</td>\n",
       "      <td>0.493</td>\n",
       "      <td>8</td>\n",
       "      <td>-7.230</td>\n",
       "      <td>1</td>\n",
       "      <td>0.0794</td>\n",
       "      <td>0.4010</td>\n",
       "      <td>0.0000</td>\n",
       "      <td>0.1180</td>\n",
       "      <td>0.124</td>\n",
       "      <td>...</td>\n",
       "      <td>7pgJBLVz5VmnL7uGHmRj6p</td>\n",
       "      <td>spotify:track:7pgJBLVz5VmnL7uGHmRj6p</td>\n",
       "      <td>https://api.spotify.com/v1/tracks/7pgJBLVz5Vmn...</td>\n",
       "      <td>https://api.spotify.com/v1/audio-analysis/7pgJ...</td>\n",
       "      <td>224427</td>\n",
       "      <td>4</td>\n",
       "      <td>Dark Trap</td>\n",
       "      <td>Pathology</td>\n",
       "      <td>NaN</td>\n",
       "      <td>NaN</td>\n",
       "    </tr>\n",
       "  </tbody>\n",
       "</table>\n",
       "<p>2 rows × 22 columns</p>\n",
       "</div>"
      ],
      "text/plain": [
       "   danceability  energy  key  loudness  mode  speechiness  acousticness  \\\n",
       "0         0.831   0.814    2    -7.364     1       0.4200        0.0598   \n",
       "1         0.719   0.493    8    -7.230     1       0.0794        0.4010   \n",
       "\n",
       "   instrumentalness  liveness  valence  ...                      id  \\\n",
       "0            0.0134    0.0556    0.389  ...  2Vc6NJ9PW9gD9q343XFRKx   \n",
       "1            0.0000    0.1180    0.124  ...  7pgJBLVz5VmnL7uGHmRj6p   \n",
       "\n",
       "                                    uri  \\\n",
       "0  spotify:track:2Vc6NJ9PW9gD9q343XFRKx   \n",
       "1  spotify:track:7pgJBLVz5VmnL7uGHmRj6p   \n",
       "\n",
       "                                          track_href  \\\n",
       "0  https://api.spotify.com/v1/tracks/2Vc6NJ9PW9gD...   \n",
       "1  https://api.spotify.com/v1/tracks/7pgJBLVz5Vmn...   \n",
       "\n",
       "                                        analysis_url duration_ms  \\\n",
       "0  https://api.spotify.com/v1/audio-analysis/2Vc6...      124539   \n",
       "1  https://api.spotify.com/v1/audio-analysis/7pgJ...      224427   \n",
       "\n",
       "  time_signature      genre            song_name Unnamed: 0 title  \n",
       "0              4  Dark Trap  Mercury: Retrograde        NaN   NaN  \n",
       "1              4  Dark Trap            Pathology        NaN   NaN  \n",
       "\n",
       "[2 rows x 22 columns]"
      ]
     },
     "execution_count": 3,
     "metadata": {},
     "output_type": "execute_result"
    }
   ],
   "source": [
    "songs_df.head(2)"
   ]
  },
  {
   "cell_type": "code",
   "execution_count": 4,
   "id": "0b52fca0-9be3-4e6e-864d-17e6f8a549e7",
   "metadata": {},
   "outputs": [
    {
     "name": "stdout",
     "output_type": "stream",
     "text": [
      "<class 'pandas.core.frame.DataFrame'>\n",
      "RangeIndex: 42305 entries, 0 to 42304\n",
      "Data columns (total 22 columns):\n",
      " #   Column            Non-Null Count  Dtype  \n",
      "---  ------            --------------  -----  \n",
      " 0   danceability      42305 non-null  float64\n",
      " 1   energy            42305 non-null  float64\n",
      " 2   key               42305 non-null  int64  \n",
      " 3   loudness          42305 non-null  float64\n",
      " 4   mode              42305 non-null  int64  \n",
      " 5   speechiness       42305 non-null  float64\n",
      " 6   acousticness      42305 non-null  float64\n",
      " 7   instrumentalness  42305 non-null  float64\n",
      " 8   liveness          42305 non-null  float64\n",
      " 9   valence           42305 non-null  float64\n",
      " 10  tempo             42305 non-null  float64\n",
      " 11  type              42305 non-null  object \n",
      " 12  id                42305 non-null  object \n",
      " 13  uri               42305 non-null  object \n",
      " 14  track_href        42305 non-null  object \n",
      " 15  analysis_url      42305 non-null  object \n",
      " 16  duration_ms       42305 non-null  int64  \n",
      " 17  time_signature    42305 non-null  int64  \n",
      " 18  genre             42305 non-null  object \n",
      " 19  song_name         21519 non-null  object \n",
      " 20  Unnamed: 0        20780 non-null  float64\n",
      " 21  title             20780 non-null  object \n",
      "dtypes: float64(10), int64(4), object(8)\n",
      "memory usage: 7.1+ MB\n"
     ]
    }
   ],
   "source": [
    "songs_df.info()"
   ]
  },
  {
   "cell_type": "code",
   "execution_count": 5,
   "id": "6809970d-2478-4364-9178-1426cbe01197",
   "metadata": {},
   "outputs": [
    {
     "data": {
      "text/plain": [
       "15439"
      ]
     },
     "execution_count": 5,
     "metadata": {},
     "output_type": "execute_result"
    }
   ],
   "source": [
    "songs_df['song_name'].nunique() #drop type, id, uri, track_href, analysis_uri, song_name?, "
   ]
  },
  {
   "cell_type": "code",
   "execution_count": 6,
   "id": "3e6d643e-f188-4387-b3d1-b0f4182d92dd",
   "metadata": {},
   "outputs": [
    {
     "data": {
      "text/plain": [
       "<bound method Series.unique of 0            NaN\n",
       "1            NaN\n",
       "2            NaN\n",
       "3            NaN\n",
       "4            NaN\n",
       "          ...   \n",
       "42300    20995.0\n",
       "42301    20996.0\n",
       "42302    20997.0\n",
       "42303    20998.0\n",
       "42304    20999.0\n",
       "Name: Unnamed: 0, Length: 42305, dtype: float64>"
      ]
     },
     "execution_count": 6,
     "metadata": {},
     "output_type": "execute_result"
    }
   ],
   "source": [
    "songs_df['Unnamed: 0'].unique"
   ]
  },
  {
   "cell_type": "code",
   "execution_count": 7,
   "id": "e91b2a19-5954-4b24-926a-a8df5a07c48c",
   "metadata": {},
   "outputs": [],
   "source": [
    "def MissingUniqueStatistics(df): #from a kaggle EDA tutorial\n",
    "  \n",
    "  total_entry_list = []\n",
    "  total_missing_value_list = []\n",
    "  missing_value_ratio_list = []\n",
    "  data_type_list = []\n",
    "  unique_values_list = []\n",
    "  number_of_unique_values_list = []\n",
    "  variable_name_list = []\n",
    "  \n",
    "  for col in df.columns:\n",
    "\n",
    "    variable_name_list.append(col)\n",
    "    missing_value_ratio = round((df[col].isna().sum()/len(df[col])),4)\n",
    "    total_entry_list.append(df[col].shape[0] - df[col].isna().sum())\n",
    "    total_missing_value_list.append(df[col].isna().sum())\n",
    "    missing_value_ratio_list.append(missing_value_ratio)\n",
    "    data_type_list.append(df[col].dtype)\n",
    "    unique_values_list.append(list(df[col].unique()))\n",
    "    number_of_unique_values_list.append(len(df[col].unique()))\n",
    "\n",
    "  data_info_df = pd.DataFrame({'Variable':variable_name_list,'#_Total_Entry':total_entry_list,\\\n",
    "                           '#_Missing_Value':total_missing_value_list,'%_Missing_Value':missing_value_ratio_list,\\\n",
    "                           'Data_Type':data_type_list,'Unique_Values':unique_values_list,\\\n",
    "                           '#_Uniques_Values':number_of_unique_values_list})\n",
    "  \n",
    "  return data_info_df.sort_values(by=\"#_Missing_Value\",ascending=False)"
   ]
  },
  {
   "cell_type": "code",
   "execution_count": 8,
   "id": "adb9afe4-b935-4a39-8a7e-87f2dc31602b",
   "metadata": {},
   "outputs": [
    {
     "data": {
      "text/html": [
       "<div>\n",
       "<style scoped>\n",
       "    .dataframe tbody tr th:only-of-type {\n",
       "        vertical-align: middle;\n",
       "    }\n",
       "\n",
       "    .dataframe tbody tr th {\n",
       "        vertical-align: top;\n",
       "    }\n",
       "\n",
       "    .dataframe thead th {\n",
       "        text-align: right;\n",
       "    }\n",
       "</style>\n",
       "<table border=\"1\" class=\"dataframe\">\n",
       "  <thead>\n",
       "    <tr style=\"text-align: right;\">\n",
       "      <th></th>\n",
       "      <th>Variable</th>\n",
       "      <th>#_Total_Entry</th>\n",
       "      <th>#_Missing_Value</th>\n",
       "      <th>%_Missing_Value</th>\n",
       "      <th>Data_Type</th>\n",
       "      <th>Unique_Values</th>\n",
       "      <th>#_Uniques_Values</th>\n",
       "    </tr>\n",
       "  </thead>\n",
       "  <tbody>\n",
       "    <tr>\n",
       "      <th>21</th>\n",
       "      <td>title</td>\n",
       "      <td>20780</td>\n",
       "      <td>21525</td>\n",
       "      <td>0.5088</td>\n",
       "      <td>object</td>\n",
       "      <td>[nan, Dirtybird Players, Tech House Movement, ...</td>\n",
       "      <td>133</td>\n",
       "    </tr>\n",
       "    <tr>\n",
       "      <th>20</th>\n",
       "      <td>Unnamed: 0</td>\n",
       "      <td>20780</td>\n",
       "      <td>21525</td>\n",
       "      <td>0.5088</td>\n",
       "      <td>float64</td>\n",
       "      <td>[nan, 0.0, 1.0, 2.0, 3.0, 4.0, 5.0, 6.0, 7.0, ...</td>\n",
       "      <td>20781</td>\n",
       "    </tr>\n",
       "    <tr>\n",
       "      <th>19</th>\n",
       "      <td>song_name</td>\n",
       "      <td>21519</td>\n",
       "      <td>20786</td>\n",
       "      <td>0.4913</td>\n",
       "      <td>object</td>\n",
       "      <td>[Mercury: Retrograde, Pathology, Symbiote, Pro...</td>\n",
       "      <td>15440</td>\n",
       "    </tr>\n",
       "    <tr>\n",
       "      <th>1</th>\n",
       "      <td>energy</td>\n",
       "      <td>42305</td>\n",
       "      <td>0</td>\n",
       "      <td>0.0000</td>\n",
       "      <td>float64</td>\n",
       "      <td>[0.8140000000000001, 0.493, 0.893, 0.780999999...</td>\n",
       "      <td>917</td>\n",
       "    </tr>\n",
       "    <tr>\n",
       "      <th>18</th>\n",
       "      <td>genre</td>\n",
       "      <td>42305</td>\n",
       "      <td>0</td>\n",
       "      <td>0.0000</td>\n",
       "      <td>object</td>\n",
       "      <td>[Dark Trap, Underground Rap, Trap Metal, Emo, ...</td>\n",
       "      <td>15</td>\n",
       "    </tr>\n",
       "    <tr>\n",
       "      <th>17</th>\n",
       "      <td>time_signature</td>\n",
       "      <td>42305</td>\n",
       "      <td>0</td>\n",
       "      <td>0.0000</td>\n",
       "      <td>int64</td>\n",
       "      <td>[4, 3, 5, 1]</td>\n",
       "      <td>4</td>\n",
       "    </tr>\n",
       "    <tr>\n",
       "      <th>16</th>\n",
       "      <td>duration_ms</td>\n",
       "      <td>42305</td>\n",
       "      <td>0</td>\n",
       "      <td>0.0000</td>\n",
       "      <td>int64</td>\n",
       "      <td>[124539, 224427, 98821, 123661, 123298, 112511...</td>\n",
       "      <td>26261</td>\n",
       "    </tr>\n",
       "    <tr>\n",
       "      <th>15</th>\n",
       "      <td>analysis_url</td>\n",
       "      <td>42305</td>\n",
       "      <td>0</td>\n",
       "      <td>0.0000</td>\n",
       "      <td>object</td>\n",
       "      <td>[https://api.spotify.com/v1/audio-analysis/2Vc...</td>\n",
       "      <td>35877</td>\n",
       "    </tr>\n",
       "    <tr>\n",
       "      <th>14</th>\n",
       "      <td>track_href</td>\n",
       "      <td>42305</td>\n",
       "      <td>0</td>\n",
       "      <td>0.0000</td>\n",
       "      <td>object</td>\n",
       "      <td>[https://api.spotify.com/v1/tracks/2Vc6NJ9PW9g...</td>\n",
       "      <td>35877</td>\n",
       "    </tr>\n",
       "    <tr>\n",
       "      <th>13</th>\n",
       "      <td>uri</td>\n",
       "      <td>42305</td>\n",
       "      <td>0</td>\n",
       "      <td>0.0000</td>\n",
       "      <td>object</td>\n",
       "      <td>[spotify:track:2Vc6NJ9PW9gD9q343XFRKx, spotify...</td>\n",
       "      <td>35877</td>\n",
       "    </tr>\n",
       "    <tr>\n",
       "      <th>12</th>\n",
       "      <td>id</td>\n",
       "      <td>42305</td>\n",
       "      <td>0</td>\n",
       "      <td>0.0000</td>\n",
       "      <td>object</td>\n",
       "      <td>[2Vc6NJ9PW9gD9q343XFRKx, 7pgJBLVz5VmnL7uGHmRj6...</td>\n",
       "      <td>35877</td>\n",
       "    </tr>\n",
       "    <tr>\n",
       "      <th>0</th>\n",
       "      <td>danceability</td>\n",
       "      <td>42305</td>\n",
       "      <td>0</td>\n",
       "      <td>0.0000</td>\n",
       "      <td>float64</td>\n",
       "      <td>[0.831, 0.7190000000000001, 0.85, 0.476, 0.797...</td>\n",
       "      <td>890</td>\n",
       "    </tr>\n",
       "    <tr>\n",
       "      <th>10</th>\n",
       "      <td>tempo</td>\n",
       "      <td>42305</td>\n",
       "      <td>0</td>\n",
       "      <td>0.0000</td>\n",
       "      <td>float64</td>\n",
       "      <td>[156.985, 115.08, 218.05, 186.948, 147.988, 14...</td>\n",
       "      <td>15606</td>\n",
       "    </tr>\n",
       "    <tr>\n",
       "      <th>9</th>\n",
       "      <td>valence</td>\n",
       "      <td>42305</td>\n",
       "      <td>0</td>\n",
       "      <td>0.0000</td>\n",
       "      <td>float64</td>\n",
       "      <td>[0.389, 0.124, 0.0391, 0.175, 0.591, 0.109, 0....</td>\n",
       "      <td>1674</td>\n",
       "    </tr>\n",
       "    <tr>\n",
       "      <th>8</th>\n",
       "      <td>liveness</td>\n",
       "      <td>42305</td>\n",
       "      <td>0</td>\n",
       "      <td>0.0000</td>\n",
       "      <td>float64</td>\n",
       "      <td>[0.0556, 0.118, 0.372, 0.114, 0.166, 0.128, 0....</td>\n",
       "      <td>1695</td>\n",
       "    </tr>\n",
       "    <tr>\n",
       "      <th>7</th>\n",
       "      <td>instrumentalness</td>\n",
       "      <td>42305</td>\n",
       "      <td>0</td>\n",
       "      <td>0.0000</td>\n",
       "      <td>float64</td>\n",
       "      <td>[0.0134, 0.0, 4.14e-06, 0.212, 0.0078, 0.0311,...</td>\n",
       "      <td>4757</td>\n",
       "    </tr>\n",
       "    <tr>\n",
       "      <th>6</th>\n",
       "      <td>acousticness</td>\n",
       "      <td>42305</td>\n",
       "      <td>0</td>\n",
       "      <td>0.0000</td>\n",
       "      <td>float64</td>\n",
       "      <td>[0.0598, 0.401, 0.0138, 0.0237, 0.217, 0.0452,...</td>\n",
       "      <td>4602</td>\n",
       "    </tr>\n",
       "    <tr>\n",
       "      <th>5</th>\n",
       "      <td>speechiness</td>\n",
       "      <td>42305</td>\n",
       "      <td>0</td>\n",
       "      <td>0.0000</td>\n",
       "      <td>float64</td>\n",
       "      <td>[0.42, 0.0794, 0.0623, 0.103, 0.293, 0.414, 0....</td>\n",
       "      <td>1447</td>\n",
       "    </tr>\n",
       "    <tr>\n",
       "      <th>4</th>\n",
       "      <td>mode</td>\n",
       "      <td>42305</td>\n",
       "      <td>0</td>\n",
       "      <td>0.0000</td>\n",
       "      <td>int64</td>\n",
       "      <td>[1, 0]</td>\n",
       "      <td>2</td>\n",
       "    </tr>\n",
       "    <tr>\n",
       "      <th>3</th>\n",
       "      <td>loudness</td>\n",
       "      <td>42305</td>\n",
       "      <td>0</td>\n",
       "      <td>0.0000</td>\n",
       "      <td>float64</td>\n",
       "      <td>[-7.364, -7.23, -4.783, -4.71, -7.667999999999...</td>\n",
       "      <td>11654</td>\n",
       "    </tr>\n",
       "    <tr>\n",
       "      <th>2</th>\n",
       "      <td>key</td>\n",
       "      <td>42305</td>\n",
       "      <td>0</td>\n",
       "      <td>0.0000</td>\n",
       "      <td>int64</td>\n",
       "      <td>[2, 8, 5, 0, 1, 11, 10, 6, 7, 9, 4, 3]</td>\n",
       "      <td>12</td>\n",
       "    </tr>\n",
       "    <tr>\n",
       "      <th>11</th>\n",
       "      <td>type</td>\n",
       "      <td>42305</td>\n",
       "      <td>0</td>\n",
       "      <td>0.0000</td>\n",
       "      <td>object</td>\n",
       "      <td>[audio_features]</td>\n",
       "      <td>1</td>\n",
       "    </tr>\n",
       "  </tbody>\n",
       "</table>\n",
       "</div>"
      ],
      "text/plain": [
       "            Variable  #_Total_Entry  #_Missing_Value  %_Missing_Value  \\\n",
       "21             title          20780            21525           0.5088   \n",
       "20        Unnamed: 0          20780            21525           0.5088   \n",
       "19         song_name          21519            20786           0.4913   \n",
       "1             energy          42305                0           0.0000   \n",
       "18             genre          42305                0           0.0000   \n",
       "17    time_signature          42305                0           0.0000   \n",
       "16       duration_ms          42305                0           0.0000   \n",
       "15      analysis_url          42305                0           0.0000   \n",
       "14        track_href          42305                0           0.0000   \n",
       "13               uri          42305                0           0.0000   \n",
       "12                id          42305                0           0.0000   \n",
       "0       danceability          42305                0           0.0000   \n",
       "10             tempo          42305                0           0.0000   \n",
       "9            valence          42305                0           0.0000   \n",
       "8           liveness          42305                0           0.0000   \n",
       "7   instrumentalness          42305                0           0.0000   \n",
       "6       acousticness          42305                0           0.0000   \n",
       "5        speechiness          42305                0           0.0000   \n",
       "4               mode          42305                0           0.0000   \n",
       "3           loudness          42305                0           0.0000   \n",
       "2                key          42305                0           0.0000   \n",
       "11              type          42305                0           0.0000   \n",
       "\n",
       "   Data_Type                                      Unique_Values  \\\n",
       "21    object  [nan, Dirtybird Players, Tech House Movement, ...   \n",
       "20   float64  [nan, 0.0, 1.0, 2.0, 3.0, 4.0, 5.0, 6.0, 7.0, ...   \n",
       "19    object  [Mercury: Retrograde, Pathology, Symbiote, Pro...   \n",
       "1    float64  [0.8140000000000001, 0.493, 0.893, 0.780999999...   \n",
       "18    object  [Dark Trap, Underground Rap, Trap Metal, Emo, ...   \n",
       "17     int64                                       [4, 3, 5, 1]   \n",
       "16     int64  [124539, 224427, 98821, 123661, 123298, 112511...   \n",
       "15    object  [https://api.spotify.com/v1/audio-analysis/2Vc...   \n",
       "14    object  [https://api.spotify.com/v1/tracks/2Vc6NJ9PW9g...   \n",
       "13    object  [spotify:track:2Vc6NJ9PW9gD9q343XFRKx, spotify...   \n",
       "12    object  [2Vc6NJ9PW9gD9q343XFRKx, 7pgJBLVz5VmnL7uGHmRj6...   \n",
       "0    float64  [0.831, 0.7190000000000001, 0.85, 0.476, 0.797...   \n",
       "10   float64  [156.985, 115.08, 218.05, 186.948, 147.988, 14...   \n",
       "9    float64  [0.389, 0.124, 0.0391, 0.175, 0.591, 0.109, 0....   \n",
       "8    float64  [0.0556, 0.118, 0.372, 0.114, 0.166, 0.128, 0....   \n",
       "7    float64  [0.0134, 0.0, 4.14e-06, 0.212, 0.0078, 0.0311,...   \n",
       "6    float64  [0.0598, 0.401, 0.0138, 0.0237, 0.217, 0.0452,...   \n",
       "5    float64  [0.42, 0.0794, 0.0623, 0.103, 0.293, 0.414, 0....   \n",
       "4      int64                                             [1, 0]   \n",
       "3    float64  [-7.364, -7.23, -4.783, -4.71, -7.667999999999...   \n",
       "2      int64             [2, 8, 5, 0, 1, 11, 10, 6, 7, 9, 4, 3]   \n",
       "11    object                                   [audio_features]   \n",
       "\n",
       "    #_Uniques_Values  \n",
       "21               133  \n",
       "20             20781  \n",
       "19             15440  \n",
       "1                917  \n",
       "18                15  \n",
       "17                 4  \n",
       "16             26261  \n",
       "15             35877  \n",
       "14             35877  \n",
       "13             35877  \n",
       "12             35877  \n",
       "0                890  \n",
       "10             15606  \n",
       "9               1674  \n",
       "8               1695  \n",
       "7               4757  \n",
       "6               4602  \n",
       "5               1447  \n",
       "4                  2  \n",
       "3              11654  \n",
       "2                 12  \n",
       "11                 1  "
      ]
     },
     "execution_count": 8,
     "metadata": {},
     "output_type": "execute_result"
    }
   ],
   "source": [
    "MissingUniqueStatistics(songs_df)"
   ]
  },
  {
   "cell_type": "markdown",
   "id": "dba7d6b3-c061-4677-873c-bb1037a45156",
   "metadata": {},
   "source": [
    "## Wrangle"
   ]
  },
  {
   "cell_type": "code",
   "execution_count": 79,
   "id": "ff268690-da22-4f86-8bc6-0086dc56e5a1",
   "metadata": {},
   "outputs": [],
   "source": [
    "def wrangle(df):\n",
    "    # drop columns not in use by nearest-neighbors \n",
    "    df.drop(columns=['type', 'id', 'track_href', 'analysis_url', 'title', 'Unnamed: 0'], inplace=True)\n",
    "    # drop unuseful audio features\n",
    "    df.drop(columns=['instrumentalness', 'key', 'time_signature', 'mode'], inplace=True)\n",
    "    # drop genre, might not work well with nearest-neighbors and does not appear in spotify api request\n",
    "    df.drop(columns=['genre'], inplace=True)\n",
    "    \n",
    "    # making a pool of songs to use as query items\n",
    "    test_df = df[df['song_name'].isna() == True]\n",
    "    # dropping rows without song_names, maybe we can keep them if we implement the api calls\n",
    "    df = df[df['song_name'].isna() == False]\n",
    "    # drop song-name, not used in nearest-neighbors\n",
    "    df.drop(columns=['song_name'], inplace=True)\n",
    "    test_df.drop(columns=['song_name'], inplace=True)\n",
    "    \n",
    "    \n",
    "    return df"
   ]
  },
  {
   "cell_type": "code",
   "execution_count": 80,
   "id": "7352e4b3-1d0e-412e-934c-0aaecd4b59d5",
   "metadata": {},
   "outputs": [],
   "source": [
    "df = wrangle(songs_df.copy())"
   ]
  },
  {
   "cell_type": "code",
   "execution_count": 81,
   "id": "38d15fa5-b07d-4652-b75c-ce43bd6ee1fd",
   "metadata": {},
   "outputs": [
    {
     "data": {
      "text/html": [
       "<div>\n",
       "<style scoped>\n",
       "    .dataframe tbody tr th:only-of-type {\n",
       "        vertical-align: middle;\n",
       "    }\n",
       "\n",
       "    .dataframe tbody tr th {\n",
       "        vertical-align: top;\n",
       "    }\n",
       "\n",
       "    .dataframe thead th {\n",
       "        text-align: right;\n",
       "    }\n",
       "</style>\n",
       "<table border=\"1\" class=\"dataframe\">\n",
       "  <thead>\n",
       "    <tr style=\"text-align: right;\">\n",
       "      <th></th>\n",
       "      <th>danceability</th>\n",
       "      <th>energy</th>\n",
       "      <th>loudness</th>\n",
       "      <th>speechiness</th>\n",
       "      <th>acousticness</th>\n",
       "      <th>liveness</th>\n",
       "      <th>valence</th>\n",
       "      <th>tempo</th>\n",
       "      <th>uri</th>\n",
       "      <th>duration_ms</th>\n",
       "    </tr>\n",
       "  </thead>\n",
       "  <tbody>\n",
       "    <tr>\n",
       "      <th>0</th>\n",
       "      <td>0.831</td>\n",
       "      <td>0.814</td>\n",
       "      <td>-7.364</td>\n",
       "      <td>0.4200</td>\n",
       "      <td>0.0598</td>\n",
       "      <td>0.0556</td>\n",
       "      <td>0.3890</td>\n",
       "      <td>156.985</td>\n",
       "      <td>spotify:track:2Vc6NJ9PW9gD9q343XFRKx</td>\n",
       "      <td>124539</td>\n",
       "    </tr>\n",
       "    <tr>\n",
       "      <th>1</th>\n",
       "      <td>0.719</td>\n",
       "      <td>0.493</td>\n",
       "      <td>-7.230</td>\n",
       "      <td>0.0794</td>\n",
       "      <td>0.4010</td>\n",
       "      <td>0.1180</td>\n",
       "      <td>0.1240</td>\n",
       "      <td>115.080</td>\n",
       "      <td>spotify:track:7pgJBLVz5VmnL7uGHmRj6p</td>\n",
       "      <td>224427</td>\n",
       "    </tr>\n",
       "    <tr>\n",
       "      <th>2</th>\n",
       "      <td>0.850</td>\n",
       "      <td>0.893</td>\n",
       "      <td>-4.783</td>\n",
       "      <td>0.0623</td>\n",
       "      <td>0.0138</td>\n",
       "      <td>0.3720</td>\n",
       "      <td>0.0391</td>\n",
       "      <td>218.050</td>\n",
       "      <td>spotify:track:0vSWgAlfpye0WCGeNmuNhy</td>\n",
       "      <td>98821</td>\n",
       "    </tr>\n",
       "    <tr>\n",
       "      <th>3</th>\n",
       "      <td>0.476</td>\n",
       "      <td>0.781</td>\n",
       "      <td>-4.710</td>\n",
       "      <td>0.1030</td>\n",
       "      <td>0.0237</td>\n",
       "      <td>0.1140</td>\n",
       "      <td>0.1750</td>\n",
       "      <td>186.948</td>\n",
       "      <td>spotify:track:0VSXnJqQkwuH2ei1nOQ1nu</td>\n",
       "      <td>123661</td>\n",
       "    </tr>\n",
       "    <tr>\n",
       "      <th>4</th>\n",
       "      <td>0.798</td>\n",
       "      <td>0.624</td>\n",
       "      <td>-7.668</td>\n",
       "      <td>0.2930</td>\n",
       "      <td>0.2170</td>\n",
       "      <td>0.1660</td>\n",
       "      <td>0.5910</td>\n",
       "      <td>147.988</td>\n",
       "      <td>spotify:track:4jCeguq9rMTlbMmPHuO7S3</td>\n",
       "      <td>123298</td>\n",
       "    </tr>\n",
       "  </tbody>\n",
       "</table>\n",
       "</div>"
      ],
      "text/plain": [
       "   danceability  energy  loudness  speechiness  acousticness  liveness  \\\n",
       "0         0.831   0.814    -7.364       0.4200        0.0598    0.0556   \n",
       "1         0.719   0.493    -7.230       0.0794        0.4010    0.1180   \n",
       "2         0.850   0.893    -4.783       0.0623        0.0138    0.3720   \n",
       "3         0.476   0.781    -4.710       0.1030        0.0237    0.1140   \n",
       "4         0.798   0.624    -7.668       0.2930        0.2170    0.1660   \n",
       "\n",
       "   valence    tempo                                   uri  duration_ms  \n",
       "0   0.3890  156.985  spotify:track:2Vc6NJ9PW9gD9q343XFRKx       124539  \n",
       "1   0.1240  115.080  spotify:track:7pgJBLVz5VmnL7uGHmRj6p       224427  \n",
       "2   0.0391  218.050  spotify:track:0vSWgAlfpye0WCGeNmuNhy        98821  \n",
       "3   0.1750  186.948  spotify:track:0VSXnJqQkwuH2ei1nOQ1nu       123661  \n",
       "4   0.5910  147.988  spotify:track:4jCeguq9rMTlbMmPHuO7S3       123298  "
      ]
     },
     "execution_count": 81,
     "metadata": {},
     "output_type": "execute_result"
    }
   ],
   "source": [
    "df.head()"
   ]
  },
  {
   "cell_type": "code",
   "execution_count": 82,
   "id": "60e18b12-699c-4d76-bc8a-d1046f600308",
   "metadata": {},
   "outputs": [],
   "source": [
    "df.to_csv('./clean_genres.csv')"
   ]
  },
  {
   "cell_type": "code",
   "execution_count": 50,
   "id": "493c0cdc-cfa0-4dc6-a564-32d4dcb5eb49",
   "metadata": {},
   "outputs": [],
   "source": [
    "q_df = df.drop(columns=['uri'])"
   ]
  },
  {
   "cell_type": "code",
   "execution_count": 12,
   "id": "6bf3d018-6d0b-4bb6-9d9d-d4706d6d7569",
   "metadata": {
    "tags": []
   },
   "outputs": [
    {
     "data": {
      "text/html": [
       "<div>\n",
       "<style scoped>\n",
       "    .dataframe tbody tr th:only-of-type {\n",
       "        vertical-align: middle;\n",
       "    }\n",
       "\n",
       "    .dataframe tbody tr th {\n",
       "        vertical-align: top;\n",
       "    }\n",
       "\n",
       "    .dataframe thead th {\n",
       "        text-align: right;\n",
       "    }\n",
       "</style>\n",
       "<table border=\"1\" class=\"dataframe\">\n",
       "  <thead>\n",
       "    <tr style=\"text-align: right;\">\n",
       "      <th></th>\n",
       "      <th>Variable</th>\n",
       "      <th>#_Total_Entry</th>\n",
       "      <th>#_Missing_Value</th>\n",
       "      <th>%_Missing_Value</th>\n",
       "      <th>Data_Type</th>\n",
       "      <th>Unique_Values</th>\n",
       "      <th>#_Uniques_Values</th>\n",
       "    </tr>\n",
       "  </thead>\n",
       "  <tbody>\n",
       "    <tr>\n",
       "      <th>0</th>\n",
       "      <td>danceability</td>\n",
       "      <td>21519</td>\n",
       "      <td>0</td>\n",
       "      <td>0.0</td>\n",
       "      <td>float64</td>\n",
       "      <td>[0.831, 0.7190000000000001, 0.85, 0.476, 0.797...</td>\n",
       "      <td>824</td>\n",
       "    </tr>\n",
       "    <tr>\n",
       "      <th>1</th>\n",
       "      <td>energy</td>\n",
       "      <td>21519</td>\n",
       "      <td>0</td>\n",
       "      <td>0.0</td>\n",
       "      <td>float64</td>\n",
       "      <td>[0.8140000000000001, 0.493, 0.893, 0.780999999...</td>\n",
       "      <td>893</td>\n",
       "    </tr>\n",
       "    <tr>\n",
       "      <th>2</th>\n",
       "      <td>loudness</td>\n",
       "      <td>21519</td>\n",
       "      <td>0</td>\n",
       "      <td>0.0</td>\n",
       "      <td>float64</td>\n",
       "      <td>[-7.364, -7.23, -4.783, -4.71, -7.667999999999...</td>\n",
       "      <td>8612</td>\n",
       "    </tr>\n",
       "    <tr>\n",
       "      <th>3</th>\n",
       "      <td>mode</td>\n",
       "      <td>21519</td>\n",
       "      <td>0</td>\n",
       "      <td>0.0</td>\n",
       "      <td>int64</td>\n",
       "      <td>[1, 0]</td>\n",
       "      <td>2</td>\n",
       "    </tr>\n",
       "    <tr>\n",
       "      <th>4</th>\n",
       "      <td>speechiness</td>\n",
       "      <td>21519</td>\n",
       "      <td>0</td>\n",
       "      <td>0.0</td>\n",
       "      <td>float64</td>\n",
       "      <td>[0.42, 0.0794, 0.0623, 0.103, 0.293, 0.414, 0....</td>\n",
       "      <td>1369</td>\n",
       "    </tr>\n",
       "    <tr>\n",
       "      <th>5</th>\n",
       "      <td>acousticness</td>\n",
       "      <td>21519</td>\n",
       "      <td>0</td>\n",
       "      <td>0.0</td>\n",
       "      <td>float64</td>\n",
       "      <td>[0.0598, 0.401, 0.0138, 0.0237, 0.217, 0.0452,...</td>\n",
       "      <td>3359</td>\n",
       "    </tr>\n",
       "    <tr>\n",
       "      <th>6</th>\n",
       "      <td>liveness</td>\n",
       "      <td>21519</td>\n",
       "      <td>0</td>\n",
       "      <td>0.0</td>\n",
       "      <td>float64</td>\n",
       "      <td>[0.0556, 0.118, 0.372, 0.114, 0.166, 0.128, 0....</td>\n",
       "      <td>1414</td>\n",
       "    </tr>\n",
       "    <tr>\n",
       "      <th>7</th>\n",
       "      <td>valence</td>\n",
       "      <td>21519</td>\n",
       "      <td>0</td>\n",
       "      <td>0.0</td>\n",
       "      <td>float64</td>\n",
       "      <td>[0.389, 0.124, 0.0391, 0.175, 0.591, 0.109, 0....</td>\n",
       "      <td>1477</td>\n",
       "    </tr>\n",
       "    <tr>\n",
       "      <th>8</th>\n",
       "      <td>tempo</td>\n",
       "      <td>21519</td>\n",
       "      <td>0</td>\n",
       "      <td>0.0</td>\n",
       "      <td>float64</td>\n",
       "      <td>[156.985, 115.08, 218.05, 186.948, 147.988, 14...</td>\n",
       "      <td>12794</td>\n",
       "    </tr>\n",
       "    <tr>\n",
       "      <th>9</th>\n",
       "      <td>uri</td>\n",
       "      <td>21519</td>\n",
       "      <td>0</td>\n",
       "      <td>0.0</td>\n",
       "      <td>object</td>\n",
       "      <td>[spotify:track:2Vc6NJ9PW9gD9q343XFRKx, spotify...</td>\n",
       "      <td>18352</td>\n",
       "    </tr>\n",
       "    <tr>\n",
       "      <th>10</th>\n",
       "      <td>duration_ms</td>\n",
       "      <td>21519</td>\n",
       "      <td>0</td>\n",
       "      <td>0.0</td>\n",
       "      <td>int64</td>\n",
       "      <td>[124539, 224427, 98821, 123661, 123298, 112511...</td>\n",
       "      <td>14240</td>\n",
       "    </tr>\n",
       "  </tbody>\n",
       "</table>\n",
       "</div>"
      ],
      "text/plain": [
       "        Variable  #_Total_Entry  #_Missing_Value  %_Missing_Value Data_Type  \\\n",
       "0   danceability          21519                0              0.0   float64   \n",
       "1         energy          21519                0              0.0   float64   \n",
       "2       loudness          21519                0              0.0   float64   \n",
       "3           mode          21519                0              0.0     int64   \n",
       "4    speechiness          21519                0              0.0   float64   \n",
       "5   acousticness          21519                0              0.0   float64   \n",
       "6       liveness          21519                0              0.0   float64   \n",
       "7        valence          21519                0              0.0   float64   \n",
       "8          tempo          21519                0              0.0   float64   \n",
       "9            uri          21519                0              0.0    object   \n",
       "10   duration_ms          21519                0              0.0     int64   \n",
       "\n",
       "                                        Unique_Values  #_Uniques_Values  \n",
       "0   [0.831, 0.7190000000000001, 0.85, 0.476, 0.797...               824  \n",
       "1   [0.8140000000000001, 0.493, 0.893, 0.780999999...               893  \n",
       "2   [-7.364, -7.23, -4.783, -4.71, -7.667999999999...              8612  \n",
       "3                                              [1, 0]                 2  \n",
       "4   [0.42, 0.0794, 0.0623, 0.103, 0.293, 0.414, 0....              1369  \n",
       "5   [0.0598, 0.401, 0.0138, 0.0237, 0.217, 0.0452,...              3359  \n",
       "6   [0.0556, 0.118, 0.372, 0.114, 0.166, 0.128, 0....              1414  \n",
       "7   [0.389, 0.124, 0.0391, 0.175, 0.591, 0.109, 0....              1477  \n",
       "8   [156.985, 115.08, 218.05, 186.948, 147.988, 14...             12794  \n",
       "9   [spotify:track:2Vc6NJ9PW9gD9q343XFRKx, spotify...             18352  \n",
       "10  [124539, 224427, 98821, 123661, 123298, 112511...             14240  "
      ]
     },
     "execution_count": 12,
     "metadata": {},
     "output_type": "execute_result"
    }
   ],
   "source": [
    "MissingUniqueStatistics(df)"
   ]
  },
  {
   "cell_type": "code",
   "execution_count": 13,
   "id": "997cae28-0e7c-4148-a277-111926db91a8",
   "metadata": {},
   "outputs": [
    {
     "data": {
      "image/png": "[encoded data removed]",
      "text/plain": [
       "<Figure size 640x480 with 1 Axes>"
      ]
     },
     "metadata": {},
     "output_type": "display_data"
    }
   ],
   "source": [
    "sns.histplot(data=songs_df, x='genre')\n",
    "plt.xticks(\n",
    "    rotation=45, \n",
    "    horizontalalignment='right',\n",
    "    fontweight='light',\n",
    "    fontsize='small'  \n",
    ")\n",
    "plt.show()"
   ]
  },
  {
   "cell_type": "code",
   "execution_count": 75,
   "id": "bc257f66-37ec-40cd-9ef2-3da4ee3ef58d",
   "metadata": {},
   "outputs": [
    {
     "data": {
      "image/png": "[encoded data removed]",
      "text/plain": [
       "<Figure size 1100x1300 with 9 Axes>"
      ]
     },
     "metadata": {},
     "output_type": "display_data"
    }
   ],
   "source": [
    "plt.rcParams['figure.figsize'] = [11, 13]\n",
    "i = 1\n",
    "for column in q_df.columns:\n",
    "    plt.subplot(4,3,i)\n",
    "    plt.ylabel(' ')\n",
    "#     plt.figure()\n",
    "    sns.distplot(df[column])\n",
    "    i += 1\n",
    "    \n",
    "plt.show()\n",
    "plt.rcParams.update(plt.rcParamsDefault)"
   ]
  },
  {
   "cell_type": "markdown",
   "id": "864c27e2-8468-4cbb-a0aa-9820bdb200b8",
   "metadata": {},
   "source": [
    "## Nearest Neighbors"
   ]
  },
  {
   "cell_type": "code",
   "execution_count": 17,
   "id": "f59d0b6b-c2c9-47f2-af4c-e05bc49173b8",
   "metadata": {},
   "outputs": [],
   "source": [
    "from sklearn.neighbors import NearestNeighbors\n",
    "from sklearn.preprocessing import StandardScaler"
   ]
  },
  {
   "cell_type": "code",
   "execution_count": 66,
   "id": "033ff528-aaf2-4375-84a1-3f13f7971b4d",
   "metadata": {},
   "outputs": [],
   "source": [
    "# standard scaler removes the mean and scales to unit variance for each feature\n",
    "scaler = StandardScaler()\n",
    "scaler.fit(q_df)\n",
    "scaled_df = scaler.transform(q_df)\n",
    "# df_s[0]"
   ]
  },
  {
   "cell_type": "code",
   "execution_count": 67,
   "id": "a7967936-250c-43d0-8550-43a1a3bf0fc4",
   "metadata": {},
   "outputs": [
    {
     "data": {
      "text/plain": [
       "NearestNeighbors()"
      ]
     },
     "execution_count": 67,
     "metadata": {},
     "output_type": "execute_result"
    }
   ],
   "source": [
    "# Instantiate nearest-neighbors estimator, n_neighbors is Number of neighbors to use by default for kneighbors queries.\n",
    "neigh = NearestNeighbors(n_neighbors=5)\n",
    "# fit to our song's audio features\n",
    "neigh.fit(scaled_df)"
   ]
  },
  {
   "cell_type": "code",
   "execution_count": 68,
   "id": "66ed2ea8-9398-491b-9ed0-3153add64933",
   "metadata": {},
   "outputs": [],
   "source": [
    "# pickle.dump(scaler, open('sclr.pkl', 'wb'))"
   ]
  },
  {
   "cell_type": "code",
   "execution_count": 69,
   "id": "f736fd67-3565-4135-9c59-cff5be926e82",
   "metadata": {},
   "outputs": [],
   "source": [
    "# pickle.dump(neigh, open('knn.pkl', 'wb'))"
   ]
  },
  {
   "cell_type": "code",
   "execution_count": 46,
   "id": "105530e0-066b-4089-84d9-b36d844ec3a9",
   "metadata": {},
   "outputs": [],
   "source": [
    "# sclr = pickle.load(open('sclr.pkl', 'rb'))\n",
    "# knn = pickle.load(open('knn.pkl', 'rb'))"
   ]
  },
  {
   "cell_type": "markdown",
   "id": "f051d3de-474c-448d-b61f-a9ae87a1ba36",
   "metadata": {},
   "source": [
    "## Testing out getting audio features from spotify api"
   ]
  },
  {
   "cell_type": "code",
   "execution_count": 27,
   "id": "e4aafc53-c8f0-4109-9c43-176e3c79c332",
   "metadata": {},
   "outputs": [],
   "source": [
    "\n",
    "#'ffd61f80a4dd4d7c8fc0c289d994fec0' '4d2e3a2dc89c45be83eaa5083b9b1b48'\n",
    "\n",
    "CLIENT_ID = 'ffd61f80a4dd4d7c8fc0c289d994fec0' \n",
    "CLIENT_SECRET = '4d2e3a2dc89c45be83eaa5083b9b1b48'"
   ]
  },
  {
   "cell_type": "code",
   "execution_count": 28,
   "id": "63bcb089-29c9-42a4-aefe-41c9d2d7658d",
   "metadata": {},
   "outputs": [],
   "source": [
    "def get_nn_query(track_id):\n",
    "    # get access token\n",
    "    AUTH_URL = 'https://accounts.spotify.com/api/token'\n",
    "    # POST\n",
    "    auth_response = requests.post(AUTH_URL, {\n",
    "        'grant_type': 'client_credentials',\n",
    "        'client_id': CLIENT_ID,\n",
    "        'client_secret': CLIENT_SECRET,\n",
    "    })\n",
    "\n",
    "    # convert the response to JSON\n",
    "    auth_response_data = auth_response.json()\n",
    "    # save the access token\n",
    "    access_token = auth_response_data['access_token']\n",
    "\n",
    "    # GET song audio-features\n",
    "    headers = {'Authorization': 'Bearer {token}'.format(token=access_token)}\n",
    "    r = requests.get('https://api.spotify.com/v1/audio-features/' + track_id, headers=headers)\n",
    "    song_dict = r.json()\n",
    "    \n",
    "    # put audio attributes in same order as in the dataframe the estimator is fit to.\n",
    "    query_nn = [song_dict[x] for x in q_df.columns]\n",
    "    \n",
    "    return query_nn"
   ]
  },
  {
   "cell_type": "code",
   "execution_count": 29,
   "id": "92d0539d-a2a7-4f57-9446-c927ebe340be",
   "metadata": {},
   "outputs": [
    {
     "name": "stdout",
     "output_type": "stream",
     "text": [
      "Index(['danceability', 'energy', 'loudness', 'mode', 'speechiness',\n",
      "       'acousticness', 'liveness', 'valence', 'tempo', 'duration_ms'],\n",
      "      dtype='object')\n",
      "[0.752, 0.678, -5.421, 1, 0.0646, 0.085, 0.13, 0.583, 96.009, 231827]\n"
     ]
    }
   ],
   "source": [
    "# test get_nn_query()\n",
    "test_q = get_nn_query(uri)\n",
    "print(q_df.columns)\n",
    "print(test_q)"
   ]
  },
  {
   "cell_type": "code",
   "execution_count": 62,
   "id": "1544baf7-740f-4c4c-a008-d748bdf9ea38",
   "metadata": {},
   "outputs": [],
   "source": [
    "def query_nn_explicit(song_features):\n",
    "    scaler = StandardScaler()\n",
    "    scaler.fit(q_df)\n",
    "    # scale features\n",
    "    scaled_df = scaler.transform(q_df)\n",
    "    scaled_song = scaler.transform([song_features])\n",
    "    print(scaled_song)\n",
    "    \n",
    "    # get 5 nearest neighbors, returns a list of dataframe indices\n",
    "    neigh = NearestNeighbors(n_neighbors=5)\n",
    "    neigh.fit(scaled_df)\n",
    "    nearest_five = neigh.kneighbors(scaled_song, 5, return_distance=False)\n",
    "    \n",
    "    return nearest_five"
   ]
  },
  {
   "cell_type": "code",
   "execution_count": 70,
   "id": "2fdac8c2-d6fe-4bc8-8c3a-ab17e692a843",
   "metadata": {},
   "outputs": [],
   "source": [
    "def query_nn_pickles(song_features):\n",
    "    # load pkls from current directory\n",
    "    sclr = pickle.load(open('sclr.pkl', 'rb'))\n",
    "    knn = pickle.load(open('knn.pkl', 'rb'))\n",
    "    # scale features\n",
    "    scaled = sclr.transform([song_features])\n",
    "    print(scaled)\n",
    "    # get 5 nearest neighbors, returns a list of dataframe indices\n",
    "    similar_five = knn.kneighbors(scaled, 5, return_distance=False)\n",
    "    \n",
    "    return similar_five"
   ]
  },
  {
   "cell_type": "code",
   "execution_count": 31,
   "id": "07c2caa0-0bd4-468c-ac33-06a00036c332",
   "metadata": {},
   "outputs": [
    {
     "data": {
      "text/plain": [
       "array([[19531,  2372, 18973, 19742,  5883]])"
      ]
     },
     "execution_count": 31,
     "metadata": {},
     "output_type": "execute_result"
    }
   ],
   "source": [
    "#test query_nn\n",
    "query_nn(test_q)"
   ]
  },
  {
   "cell_type": "markdown",
   "id": "6ea03d36-9c8a-4421-9399-94faa03f0d24",
   "metadata": {},
   "source": [
    "## Nice Function(does all things)"
   ]
  },
  {
   "cell_type": "code",
   "execution_count": 71,
   "id": "e4068e3d-7d40-40ec-9d99-f102806dd301",
   "metadata": {},
   "outputs": [],
   "source": [
    "def recomend(song_link):\n",
    "    # Slice uri out of spotify share link\n",
    "    uri = song_link[31:53]\n",
    "    # Request song audio-features and format them for nearest-neighbors query\n",
    "    features = get_nn_query(uri)\n",
    "    \n",
    "    # get nearest neighbors\n",
    "    similar_songs = query_nn_pickles(features)\n",
    "    print(similar_songs)\n",
    "    \n",
    "    \n",
    "    # create links to spotify songs\n",
    "    query_results = songs_df.loc[similar_songs[0]]['uri']\n",
    "    links = query_results.apply(lambda x: 'https://open.spotify.com/track/' + x[14:]).values\n",
    "    \n",
    "    return links"
   ]
  },
  {
   "cell_type": "markdown",
   "id": "43c20669-40ed-4780-96ec-6ad80ec3ff8a",
   "metadata": {},
   "source": [
    "### test recomend()"
   ]
  },
  {
   "cell_type": "code",
   "execution_count": 43,
   "id": "32a70528-3d96-444d-acb8-e9bc37be778f",
   "metadata": {},
   "outputs": [],
   "source": [
    "bicep = 'https://open.spotify.com/track/73X9X7kDgsm4YeHpc8prf6?si=4acf2fa8d0314a23'\n",
    "norah_jones = 'https://open.spotify.com/track/4yZYolqyUgoGxSCoKZuYjN?si=ed3dc2c70fd84d19'"
   ]
  },
  {
   "cell_type": "code",
   "execution_count": 73,
   "id": "f071cfd3-572e-4e85-9e11-6520c7417dfa",
   "metadata": {},
   "outputs": [
    {
     "name": "stdout",
     "output_type": "stream",
     "text": [
      "[[ 0.90587124 -0.33151311  0.08999668 -0.98881413  0.86218114 -0.74192359\n",
      "   0.30643882 -0.80636017  0.86103926]]\n",
      "[[ 4212 16970  7897 21015 17341]]\n"
     ]
    },
    {
     "data": {
      "text/plain": [
       "array(['https://open.spotify.com/track/2TUHiFBDBpGyDUCTMA3TMH',\n",
       "       'https://open.spotify.com/track/2KqyIbbCPKhNfqqzUVq9H9',\n",
       "       'https://open.spotify.com/track/6br4Pc0BzU6dTD5fEmks2i',\n",
       "       'https://open.spotify.com/track/4mqsYvyMATKLBPwRd3xGnM',\n",
       "       'https://open.spotify.com/track/4uX8Wh4wxpLne11BhoHs5x'],\n",
       "      dtype=object)"
      ]
     },
     "execution_count": 73,
     "metadata": {},
     "output_type": "execute_result"
    }
   ],
   "source": [
    "# Test recomend()\n",
    "recomend(bicep)"
   ]
  },
  {
   "cell_type": "code",
   "execution_count": 74,
   "id": "d7b47a42-7379-43d1-9a15-d99e7a4b6fad",
   "metadata": {},
   "outputs": [
    {
     "name": "stdout",
     "output_type": "stream",
     "text": [
      "[[ 0.40406392 -2.6079247  -1.62511761 -1.06702531  3.40481288 -0.89971214\n",
      "   0.9140498  -2.16272293 -0.13849647]]\n",
      "[[10356 12619 14160 13491 19614]]\n"
     ]
    },
    {
     "data": {
      "text/plain": [
       "array(['https://open.spotify.com/track/12whwTqw8VxC5DyUM6T9xM',\n",
       "       'https://open.spotify.com/track/2tQWm5Xvo87waN5CZmNm9f',\n",
       "       'https://open.spotify.com/track/7AFASza1mXqntmGtbxXprO',\n",
       "       'https://open.spotify.com/track/63nJIngH6cMV70V5IUx3Ex',\n",
       "       'https://open.spotify.com/track/7AQim7LbvFVZJE3O8TYgf2'],\n",
       "      dtype=object)"
      ]
     },
     "execution_count": 74,
     "metadata": {},
     "output_type": "execute_result"
    }
   ],
   "source": [
    "recomend(norah_jones)"
   ]
  },
  {
   "cell_type": "code",
   "execution_count": 59,
   "id": "d75249f0-05c9-42ff-93c2-495f10d6e014",
   "metadata": {},
   "outputs": [
    {
     "data": {
      "text/plain": [
       "[0.819, 0.599, -6.778, 0.039, 0.347, 0.083, 0.489, 127.986, 246507]"
      ]
     },
     "execution_count": 59,
     "metadata": {},
     "output_type": "execute_result"
    }
   ],
   "source": [
    "bq = get_nn_query(bicep[31:53])\n",
    "bq"
   ]
  },
  {
   "cell_type": "code",
   "execution_count": 60,
   "id": "3bbb37ac-e529-45eb-8dd7-90c84cd8b187",
   "metadata": {},
   "outputs": [
    {
     "data": {
      "text/plain": [
       "[0.739, 0.199, -11.763, 0.028, 0.877, 0.0591, 0.631, 88.466, 186160]"
      ]
     },
     "execution_count": 60,
     "metadata": {},
     "output_type": "execute_result"
    }
   ],
   "source": [
    "nq = get_nn_query(norah_jones[31:53])\n",
    "nq"
   ]
  },
  {
   "cell_type": "code",
   "execution_count": 63,
   "id": "ab003c74-b05f-4cd4-a447-39214561d91e",
   "metadata": {},
   "outputs": [
    {
     "name": "stdout",
     "output_type": "stream",
     "text": [
      "[[ 0.90587124 -0.33151311  0.08999668 -0.98881413  0.86218114 -0.74192359\n",
      "   0.30643882 -0.80636017  0.86103926]]\n"
     ]
    },
    {
     "data": {
      "text/plain": [
       "array([[ 4212, 16970,  7897, 21015, 17341]])"
      ]
     },
     "execution_count": 63,
     "metadata": {},
     "output_type": "execute_result"
    }
   ],
   "source": [
    "query_nn_explicit(bq)"
   ]
  },
  {
   "cell_type": "code",
   "execution_count": 64,
   "id": "13a598a7-be3a-493f-90ac-8f2b42e6ef1e",
   "metadata": {},
   "outputs": [
    {
     "name": "stdout",
     "output_type": "stream",
     "text": [
      "[[ 0.40406392 -2.6079247  -1.62511761 -1.06702531  3.40481288 -0.89971214\n",
      "   0.9140498  -2.16272293 -0.13849647]]\n"
     ]
    },
    {
     "data": {
      "text/plain": [
       "array([[10356, 12619, 14160, 13491, 19614]])"
      ]
     },
     "execution_count": 64,
     "metadata": {},
     "output_type": "execute_result"
    }
   ],
   "source": [
    "query_nn_explicit(nq)"
   ]
  }
 ],
 "metadata": {
  "kernelspec": {
   "display_name": "Python 3",
   "language": "python",
   "name": "python3"
  },
  "language_info": {
   "codemirror_mode": {
    "name": "ipython",
    "version": 3
   },
   "file_extension": ".py",
   "mimetype": "text/x-python",
   "name": "python",
   "nbconvert_exporter": "python",
   "pygments_lexer": "ipython3",
   "version": "3.8.11"
  }
 },
 "nbformat": 4,
 "nbformat_minor": 5
}
